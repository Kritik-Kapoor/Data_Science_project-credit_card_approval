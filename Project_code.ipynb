{
  "nbformat": 4,
  "nbformat_minor": 0,
  "metadata": {
    "colab": {
      "name": "Project code.ipynb",
      "provenance": [],
      "collapsed_sections": [],
      "authorship_tag": "ABX9TyNDdWugyFHJ4LGeZAo99iL9",
      "include_colab_link": true
    },
    "kernelspec": {
      "name": "python3",
      "display_name": "Python 3"
    },
    "language_info": {
      "name": "python"
    }
  },
  "cells": [
    {
      "cell_type": "markdown",
      "metadata": {
        "id": "view-in-github",
        "colab_type": "text"
      },
      "source": [
        "<a href=\"https://colab.research.google.com/github/Kritik-Kapoor/python-program/blob/master/Project_code.ipynb\" target=\"_parent\"><img src=\"https://colab.research.google.com/assets/colab-badge.svg\" alt=\"Open In Colab\"/></a>"
      ]
    },
    {
      "cell_type": "code",
      "metadata": {
        "id": "L-Dj8Kq1JaC7"
      },
     
    },
    {
      "cell_type": "code",
      "metadata": {
        "colab": {
          "resources": {
            "http://localhost:8080/nbextensions/google.colab/files.js": {
              "data": "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",
              "ok": true,
              "headers": [
                [
                  "content-type",
                  "application/javascript"
                ]
              ],
              "status": 200,
              "status_text": ""
            }
          },
          "base_uri": "https://localhost:8080/",
          "height": 89
        },
        "id": "7yYNrNFHKPHg",
        "outputId": "34f21ae9-aee8-430a-a849-5eb4195d52e3"
      },
      "source": [
        "from google.colab import files\n",
        "files.upload()"
      ],
      "execution_count": null,
      "outputs": [
        {
          "output_type": "display_data",
          "data": {
            "text/html": [
              "\n",
              "     <input type=\"file\" id=\"files-5943ddb5-b479-4258-9bd5-15d1ecb65baa\" name=\"files[]\" multiple disabled\n",
              "        style=\"border:none\" />\n",
              "     <output id=\"result-5943ddb5-b479-4258-9bd5-15d1ecb65baa\">\n",
              "      Upload widget is only available when the cell has been executed in the\n",
              "      current browser session. Please rerun this cell to enable.\n",
              "      </output>\n",
              "      <script src=\"/nbextensions/google.colab/files.js\"></script> "
            ],
            "text/plain": [
              "<IPython.core.display.HTML object>"
            ]
          },
          "metadata": {}
        },
        {
          "output_type": "stream",
          "name": "stdout",
          "text": [
            "Saving kaggle.json to kaggle.json\n"
          ]
        },
        {
          "output_type": "execute_result",
          "data": {
            "text/plain": [
              "{'kaggle.json': b'{\"username\":\"kritikkapoor\",\"key\":\"e803ab35220b0dfbbe1d7b06dc578f76\"}'}"
            ]
          },
          "metadata": {},
          "execution_count": 4
        }
      ]
    },
    {
      "cell_type": "code",
      "metadata": {
        "colab": {
          "base_uri": "https://localhost:8080/"
        },
        "id": "HPZw5KmSK-tP",
        "outputId": "4c3c042c-ad1a-47d3-9b35-ef06e5537aef"
      },
      "source": [
        "!mkdir ~/.kaggle"
      ],
      "execution_count": null,
      "outputs": [
        {
          "output_type": "stream",
          "name": "stdout",
          "text": [
            "mkdir: cannot create directory ‘/root/.kaggle’: File exists\n"
          ]
        }
      ]
    },
    {
      "cell_type": "code",
      "metadata": {
        "id": "ENJETGnQLG91"
      },
      "source": [
        "!cp kaggle.json ~/.kaggle/"
      ],
      "execution_count": null,
      "outputs": []
    },
    {
      "cell_type": "code",
      "metadata": {
        "id": "aAJVv6z8L0Wr"
      },
      "source": [
        "!chmod 600 ~/.kaggle/kaggle.json"
      ],
      "execution_count": null,
      "outputs": []
    },
    {
      "cell_type": "code",
      "metadata": {
        "colab": {
          "base_uri": "https://localhost:8080/"
        },
        "id": "tfe6BuYvREZS",
        "outputId": "73103b43-a799-4404-c336-2d1563848edf"
      },
      "source": [
        "! kaggle datasets download rikdifos/credit-card-approval-prediction -f application_record.csv\n"
      ],
      "execution_count": null,
      "outputs": [
        {
          "output_type": "stream",
          "name": "stdout",
          "text": [
            "Downloading application_record.csv.zip to /content\n",
            "\r  0% 0.00/3.04M [00:00<?, ?B/s]\n",
            "\r100% 3.04M/3.04M [00:00<00:00, 102MB/s]\n"
          ]
        }
      ]
    },
    {
      "cell_type": "code",
      "metadata": {
        "colab": {
          "base_uri": "https://localhost:8080/"
        },
        "id": "YcXRLwOyTDeg",
        "outputId": "10b93512-46d7-4477-9a38-7c486491f7c0"
      },
      "source": [
        "! kaggle datasets download rikdifos/credit-card-approval-prediction -f credit_record.csv"
      ],
      "execution_count": null,
      "outputs": [
        {
          "output_type": "stream",
          "name": "stdout",
          "text": [
            "Downloading credit_record.csv.zip to /content\n",
            "\r  0% 0.00/2.28M [00:00<?, ?B/s]\n",
            "\r100% 2.28M/2.28M [00:00<00:00, 76.5MB/s]\n"
          ]
        }
      ]
    },
    {
      "cell_type": "code",
      "metadata": {
        "id": "5tzQt4ngUjYv"
      },
      "source": [
        "import pandas as pd\n",
        "import numpy as np\n",
        "import matplotlib.pyplot as plt\n",
        "import seaborn as sns"
      ],
      "execution_count": null,
      "outputs": []
    },
    {
      "cell_type": "code",
      "metadata": {
        "colab": {
          "base_uri": "https://localhost:8080/",
          "height": 275
        },
        "id": "UjDlZKhBVph-",
        "outputId": "d357b2c7-f614-464f-e818-33c761d09557"
      },
      "source": [
        "df1 = pd.read_csv('application_record.csv.zip', delimiter=',', index_col=False)\n",
        "df1.head()"
      ],
      "execution_count": null,
      "outputs": [
        {
          "output_type": "execute_result",
          "data": {
            "text/html": [
              "<div>\n",
              "<style scoped>\n",
              "    .dataframe tbody tr th:only-of-type {\n",
              "        vertical-align: middle;\n",
              "    }\n",
              "\n",
              "    .dataframe tbody tr th {\n",
              "        vertical-align: top;\n",
              "    }\n",
              "\n",
              "    .dataframe thead th {\n",
              "        text-align: right;\n",
              "    }\n",
              "</style>\n",
              "<table border=\"1\" class=\"dataframe\">\n",
              "  <thead>\n",
              "    <tr style=\"text-align: right;\">\n",
              "      <th></th>\n",
              "      <th>ID</th>\n",
              "      <th>CODE_GENDER</th>\n",
              "      <th>FLAG_OWN_CAR</th>\n",
              "      <th>FLAG_OWN_REALTY</th>\n",
              "      <th>CNT_CHILDREN</th>\n",
              "      <th>AMT_INCOME_TOTAL</th>\n",
              "      <th>NAME_INCOME_TYPE</th>\n",
              "      <th>NAME_EDUCATION_TYPE</th>\n",
              "      <th>NAME_FAMILY_STATUS</th>\n",
              "      <th>NAME_HOUSING_TYPE</th>\n",
              "      <th>DAYS_BIRTH</th>\n",
              "      <th>DAYS_EMPLOYED</th>\n",
              "      <th>FLAG_MOBIL</th>\n",
              "      <th>FLAG_WORK_PHONE</th>\n",
              "      <th>FLAG_PHONE</th>\n",
              "      <th>FLAG_EMAIL</th>\n",
              "      <th>OCCUPATION_TYPE</th>\n",
              "      <th>CNT_FAM_MEMBERS</th>\n",
              "    </tr>\n",
              "  </thead>\n",
              "  <tbody>\n",
              "    <tr>\n",
              "      <th>0</th>\n",
              "      <td>5008804</td>\n",
              "      <td>M</td>\n",
              "      <td>Y</td>\n",
              "      <td>Y</td>\n",
              "      <td>0</td>\n",
              "      <td>427500.0</td>\n",
              "      <td>Working</td>\n",
              "      <td>Higher education</td>\n",
              "      <td>Civil marriage</td>\n",
              "      <td>Rented apartment</td>\n",
              "      <td>-12005</td>\n",
              "      <td>-4542</td>\n",
              "      <td>1</td>\n",
              "      <td>1</td>\n",
              "      <td>0</td>\n",
              "      <td>0</td>\n",
              "      <td>NaN</td>\n",
              "      <td>2.0</td>\n",
              "    </tr>\n",
              "    <tr>\n",
              "      <th>1</th>\n",
              "      <td>5008805</td>\n",
              "      <td>M</td>\n",
              "      <td>Y</td>\n",
              "      <td>Y</td>\n",
              "      <td>0</td>\n",
              "      <td>427500.0</td>\n",
              "      <td>Working</td>\n",
              "      <td>Higher education</td>\n",
              "      <td>Civil marriage</td>\n",
              "      <td>Rented apartment</td>\n",
              "      <td>-12005</td>\n",
              "      <td>-4542</td>\n",
              "      <td>1</td>\n",
              "      <td>1</td>\n",
              "      <td>0</td>\n",
              "      <td>0</td>\n",
              "      <td>NaN</td>\n",
              "      <td>2.0</td>\n",
              "    </tr>\n",
              "    <tr>\n",
              "      <th>2</th>\n",
              "      <td>5008806</td>\n",
              "      <td>M</td>\n",
              "      <td>Y</td>\n",
              "      <td>Y</td>\n",
              "      <td>0</td>\n",
              "      <td>112500.0</td>\n",
              "      <td>Working</td>\n",
              "      <td>Secondary / secondary special</td>\n",
              "      <td>Married</td>\n",
              "      <td>House / apartment</td>\n",
              "      <td>-21474</td>\n",
              "      <td>-1134</td>\n",
              "      <td>1</td>\n",
              "      <td>0</td>\n",
              "      <td>0</td>\n",
              "      <td>0</td>\n",
              "      <td>Security staff</td>\n",
              "      <td>2.0</td>\n",
              "    </tr>\n",
              "    <tr>\n",
              "      <th>3</th>\n",
              "      <td>5008808</td>\n",
              "      <td>F</td>\n",
              "      <td>N</td>\n",
              "      <td>Y</td>\n",
              "      <td>0</td>\n",
              "      <td>270000.0</td>\n",
              "      <td>Commercial associate</td>\n",
              "      <td>Secondary / secondary special</td>\n",
              "      <td>Single / not married</td>\n",
              "      <td>House / apartment</td>\n",
              "      <td>-19110</td>\n",
              "      <td>-3051</td>\n",
              "      <td>1</td>\n",
              "      <td>0</td>\n",
              "      <td>1</td>\n",
              "      <td>1</td>\n",
              "      <td>Sales staff</td>\n",
              "      <td>1.0</td>\n",
              "    </tr>\n",
              "    <tr>\n",
              "      <th>4</th>\n",
              "      <td>5008809</td>\n",
              "      <td>F</td>\n",
              "      <td>N</td>\n",
              "      <td>Y</td>\n",
              "      <td>0</td>\n",
              "      <td>270000.0</td>\n",
              "      <td>Commercial associate</td>\n",
              "      <td>Secondary / secondary special</td>\n",
              "      <td>Single / not married</td>\n",
              "      <td>House / apartment</td>\n",
              "      <td>-19110</td>\n",
              "      <td>-3051</td>\n",
              "      <td>1</td>\n",
              "      <td>0</td>\n",
              "      <td>1</td>\n",
              "      <td>1</td>\n",
              "      <td>Sales staff</td>\n",
              "      <td>1.0</td>\n",
              "    </tr>\n",
              "  </tbody>\n",
              "</table>\n",
              "</div>"
            ],
            "text/plain": [
              "        ID CODE_GENDER  ... OCCUPATION_TYPE CNT_FAM_MEMBERS\n",
              "0  5008804           M  ...             NaN             2.0\n",
              "1  5008805           M  ...             NaN             2.0\n",
              "2  5008806           M  ...  Security staff             2.0\n",
              "3  5008808           F  ...     Sales staff             1.0\n",
              "4  5008809           F  ...     Sales staff             1.0\n",
              "\n",
              "[5 rows x 18 columns]"
            ]
          },
          "metadata": {},
          "execution_count": 20
        }
      ]
    },
    {
      "cell_type": "code",
      "metadata": {
        "colab": {
          "base_uri": "https://localhost:8080/"
        },
        "id": "zeBjeSZDWFkn",
        "outputId": "98f83e8d-0ff9-45f3-86ad-f9c222a57c00"
      },
      "source": [
        "print('The shape of Application Record dataset is ' + str(df1.shape) +'.')\n",
        "print('There are ' + str(df1['ID'].nunique()) + ' unique IDs in this dataset.')"
      ],
      "execution_count": null,
      "outputs": [
        {
          "output_type": "stream",
          "name": "stdout",
          "text": [
            "The shape of Application Record dataset is (438557, 18).\n",
            "There are 438510 unique IDs in this dataset.\n"
          ]
        }
      ]
    },
    {
      "cell_type": "code",
      "metadata": {
        "colab": {
          "base_uri": "https://localhost:8080/",
          "height": 204
        },
        "id": "fwZ7N2h4WL45",
        "outputId": "51873ee0-3f0f-4204-d158-d2098528ae92"
      },
      "source": [
        "df2 = pd.read_csv('credit_record.csv.zip', delimiter=',', index_col=False)\n",
        "df2.head()"
      ],
      "execution_count": null,
      "outputs": [
        {
          "output_type": "execute_result",
          "data": {
            "text/html": [
              "<div>\n",
              "<style scoped>\n",
              "    .dataframe tbody tr th:only-of-type {\n",
              "        vertical-align: middle;\n",
              "    }\n",
              "\n",
              "    .dataframe tbody tr th {\n",
              "        vertical-align: top;\n",
              "    }\n",
              "\n",
              "    .dataframe thead th {\n",
              "        text-align: right;\n",
              "    }\n",
              "</style>\n",
              "<table border=\"1\" class=\"dataframe\">\n",
              "  <thead>\n",
              "    <tr style=\"text-align: right;\">\n",
              "      <th></th>\n",
              "      <th>ID</th>\n",
              "      <th>MONTHS_BALANCE</th>\n",
              "      <th>STATUS</th>\n",
              "    </tr>\n",
              "  </thead>\n",
              "  <tbody>\n",
              "    <tr>\n",
              "      <th>0</th>\n",
              "      <td>5001711</td>\n",
              "      <td>0</td>\n",
              "      <td>X</td>\n",
              "    </tr>\n",
              "    <tr>\n",
              "      <th>1</th>\n",
              "      <td>5001711</td>\n",
              "      <td>-1</td>\n",
              "      <td>0</td>\n",
              "    </tr>\n",
              "    <tr>\n",
              "      <th>2</th>\n",
              "      <td>5001711</td>\n",
              "      <td>-2</td>\n",
              "      <td>0</td>\n",
              "    </tr>\n",
              "    <tr>\n",
              "      <th>3</th>\n",
              "      <td>5001711</td>\n",
              "      <td>-3</td>\n",
              "      <td>0</td>\n",
              "    </tr>\n",
              "    <tr>\n",
              "      <th>4</th>\n",
              "      <td>5001712</td>\n",
              "      <td>0</td>\n",
              "      <td>C</td>\n",
              "    </tr>\n",
              "  </tbody>\n",
              "</table>\n",
              "</div>"
            ],
            "text/plain": [
              "        ID  MONTHS_BALANCE STATUS\n",
              "0  5001711               0      X\n",
              "1  5001711              -1      0\n",
              "2  5001711              -2      0\n",
              "3  5001711              -3      0\n",
              "4  5001712               0      C"
            ]
          },
          "metadata": {},
          "execution_count": 23
        }
      ]
    },
    {
      "cell_type": "code",
      "metadata": {
        "colab": {
          "base_uri": "https://localhost:8080/"
        },
        "id": "X2Ia5C7DWndw",
        "outputId": "4acbbb2c-12ea-40db-cba3-c4973a24ea88"
      },
      "source": [
        "print('The shape of Credit Record dataset is ' + str(df2.shape) +'.')\n",
        "print('There are ' + str(df2['ID'].nunique()) + ' unique IDs in this dataset, which is much less than the parent dataset.')"
      ],
      "execution_count": null,
      "outputs": [
        {
          "output_type": "stream",
          "name": "stdout",
          "text": [
            "The shape of Credit Record dataset is (1048575, 3).\n",
            "There are 45985 unique IDs in this dataset, which is much less than the parent dataset.\n"
          ]
        }
      ]
    },
    {
      "cell_type": "code",
      "metadata": {
        "colab": {
          "base_uri": "https://localhost:8080/",
          "height": 224
        },
        "id": "iXDU_uMiWrYH",
        "outputId": "f64dd1c2-36f1-4a41-b6ac-09587b58d1b7"
      },
      "source": [
        "df3 = pd.merge(df1, df2, on='ID')\n",
        "df3.head()"
      ],
      "execution_count": null,
      "outputs": [
        {
          "output_type": "execute_result",
          "data": {
            "text/html": [
              "<div>\n",
              "<style scoped>\n",
              "    .dataframe tbody tr th:only-of-type {\n",
              "        vertical-align: middle;\n",
              "    }\n",
              "\n",
              "    .dataframe tbody tr th {\n",
              "        vertical-align: top;\n",
              "    }\n",
              "\n",
              "    .dataframe thead th {\n",
              "        text-align: right;\n",
              "    }\n",
              "</style>\n",
              "<table border=\"1\" class=\"dataframe\">\n",
              "  <thead>\n",
              "    <tr style=\"text-align: right;\">\n",
              "      <th></th>\n",
              "      <th>ID</th>\n",
              "      <th>CODE_GENDER</th>\n",
              "      <th>FLAG_OWN_CAR</th>\n",
              "      <th>FLAG_OWN_REALTY</th>\n",
              "      <th>CNT_CHILDREN</th>\n",
              "      <th>AMT_INCOME_TOTAL</th>\n",
              "      <th>NAME_INCOME_TYPE</th>\n",
              "      <th>NAME_EDUCATION_TYPE</th>\n",
              "      <th>NAME_FAMILY_STATUS</th>\n",
              "      <th>NAME_HOUSING_TYPE</th>\n",
              "      <th>DAYS_BIRTH</th>\n",
              "      <th>DAYS_EMPLOYED</th>\n",
              "      <th>FLAG_MOBIL</th>\n",
              "      <th>FLAG_WORK_PHONE</th>\n",
              "      <th>FLAG_PHONE</th>\n",
              "      <th>FLAG_EMAIL</th>\n",
              "      <th>OCCUPATION_TYPE</th>\n",
              "      <th>CNT_FAM_MEMBERS</th>\n",
              "      <th>MONTHS_BALANCE</th>\n",
              "      <th>STATUS</th>\n",
              "    </tr>\n",
              "  </thead>\n",
              "  <tbody>\n",
              "    <tr>\n",
              "      <th>0</th>\n",
              "      <td>5008804</td>\n",
              "      <td>M</td>\n",
              "      <td>Y</td>\n",
              "      <td>Y</td>\n",
              "      <td>0</td>\n",
              "      <td>427500.0</td>\n",
              "      <td>Working</td>\n",
              "      <td>Higher education</td>\n",
              "      <td>Civil marriage</td>\n",
              "      <td>Rented apartment</td>\n",
              "      <td>-12005</td>\n",
              "      <td>-4542</td>\n",
              "      <td>1</td>\n",
              "      <td>1</td>\n",
              "      <td>0</td>\n",
              "      <td>0</td>\n",
              "      <td>NaN</td>\n",
              "      <td>2.0</td>\n",
              "      <td>0</td>\n",
              "      <td>C</td>\n",
              "    </tr>\n",
              "    <tr>\n",
              "      <th>1</th>\n",
              "      <td>5008804</td>\n",
              "      <td>M</td>\n",
              "      <td>Y</td>\n",
              "      <td>Y</td>\n",
              "      <td>0</td>\n",
              "      <td>427500.0</td>\n",
              "      <td>Working</td>\n",
              "      <td>Higher education</td>\n",
              "      <td>Civil marriage</td>\n",
              "      <td>Rented apartment</td>\n",
              "      <td>-12005</td>\n",
              "      <td>-4542</td>\n",
              "      <td>1</td>\n",
              "      <td>1</td>\n",
              "      <td>0</td>\n",
              "      <td>0</td>\n",
              "      <td>NaN</td>\n",
              "      <td>2.0</td>\n",
              "      <td>-1</td>\n",
              "      <td>C</td>\n",
              "    </tr>\n",
              "    <tr>\n",
              "      <th>2</th>\n",
              "      <td>5008804</td>\n",
              "      <td>M</td>\n",
              "      <td>Y</td>\n",
              "      <td>Y</td>\n",
              "      <td>0</td>\n",
              "      <td>427500.0</td>\n",
              "      <td>Working</td>\n",
              "      <td>Higher education</td>\n",
              "      <td>Civil marriage</td>\n",
              "      <td>Rented apartment</td>\n",
              "      <td>-12005</td>\n",
              "      <td>-4542</td>\n",
              "      <td>1</td>\n",
              "      <td>1</td>\n",
              "      <td>0</td>\n",
              "      <td>0</td>\n",
              "      <td>NaN</td>\n",
              "      <td>2.0</td>\n",
              "      <td>-2</td>\n",
              "      <td>C</td>\n",
              "    </tr>\n",
              "    <tr>\n",
              "      <th>3</th>\n",
              "      <td>5008804</td>\n",
              "      <td>M</td>\n",
              "      <td>Y</td>\n",
              "      <td>Y</td>\n",
              "      <td>0</td>\n",
              "      <td>427500.0</td>\n",
              "      <td>Working</td>\n",
              "      <td>Higher education</td>\n",
              "      <td>Civil marriage</td>\n",
              "      <td>Rented apartment</td>\n",
              "      <td>-12005</td>\n",
              "      <td>-4542</td>\n",
              "      <td>1</td>\n",
              "      <td>1</td>\n",
              "      <td>0</td>\n",
              "      <td>0</td>\n",
              "      <td>NaN</td>\n",
              "      <td>2.0</td>\n",
              "      <td>-3</td>\n",
              "      <td>C</td>\n",
              "    </tr>\n",
              "    <tr>\n",
              "      <th>4</th>\n",
              "      <td>5008804</td>\n",
              "      <td>M</td>\n",
              "      <td>Y</td>\n",
              "      <td>Y</td>\n",
              "      <td>0</td>\n",
              "      <td>427500.0</td>\n",
              "      <td>Working</td>\n",
              "      <td>Higher education</td>\n",
              "      <td>Civil marriage</td>\n",
              "      <td>Rented apartment</td>\n",
              "      <td>-12005</td>\n",
              "      <td>-4542</td>\n",
              "      <td>1</td>\n",
              "      <td>1</td>\n",
              "      <td>0</td>\n",
              "      <td>0</td>\n",
              "      <td>NaN</td>\n",
              "      <td>2.0</td>\n",
              "      <td>-4</td>\n",
              "      <td>C</td>\n",
              "    </tr>\n",
              "  </tbody>\n",
              "</table>\n",
              "</div>"
            ],
            "text/plain": [
              "        ID CODE_GENDER FLAG_OWN_CAR  ... CNT_FAM_MEMBERS  MONTHS_BALANCE  STATUS\n",
              "0  5008804           M            Y  ...             2.0               0       C\n",
              "1  5008804           M            Y  ...             2.0              -1       C\n",
              "2  5008804           M            Y  ...             2.0              -2       C\n",
              "3  5008804           M            Y  ...             2.0              -3       C\n",
              "4  5008804           M            Y  ...             2.0              -4       C\n",
              "\n",
              "[5 rows x 20 columns]"
            ]
          },
          "metadata": {},
          "execution_count": 25
        }
      ]
    },
    {
      "cell_type": "code",
      "metadata": {
        "colab": {
          "base_uri": "https://localhost:8080/"
        },
        "id": "57xJhYkkWytA",
        "outputId": "eff52697-3246-4537-b5ec-2e6832e5b720"
      },
      "source": [
        "print('The shape of the merged dataset is ' + str(df3.shape) +'.')"
      ],
      "execution_count": null,
      "outputs": [
        {
          "output_type": "stream",
          "name": "stdout",
          "text": [
            "The shape of the merged dataset is (777715, 20).\n"
          ]
        }
      ]
    },
    {
      "cell_type": "code",
      "metadata": {
        "colab": {
          "base_uri": "https://localhost:8080/",
          "height": 309
        },
        "id": "O_DOICNxW1yq",
        "outputId": "4f39b927-d7b7-43fa-8184-78752c1a5a9c"
      },
      "source": [
        "df4 = df3.dropna().drop_duplicates(subset='ID', keep='first')\n",
        "df4.head()"
      ],
      "execution_count": null,
      "outputs": [
        {
          "output_type": "execute_result",
          "data": {
            "text/html": [
              "<div>\n",
              "<style scoped>\n",
              "    .dataframe tbody tr th:only-of-type {\n",
              "        vertical-align: middle;\n",
              "    }\n",
              "\n",
              "    .dataframe tbody tr th {\n",
              "        vertical-align: top;\n",
              "    }\n",
              "\n",
              "    .dataframe thead th {\n",
              "        text-align: right;\n",
              "    }\n",
              "</style>\n",
              "<table border=\"1\" class=\"dataframe\">\n",
              "  <thead>\n",
              "    <tr style=\"text-align: right;\">\n",
              "      <th></th>\n",
              "      <th>ID</th>\n",
              "      <th>CODE_GENDER</th>\n",
              "      <th>FLAG_OWN_CAR</th>\n",
              "      <th>FLAG_OWN_REALTY</th>\n",
              "      <th>CNT_CHILDREN</th>\n",
              "      <th>AMT_INCOME_TOTAL</th>\n",
              "      <th>NAME_INCOME_TYPE</th>\n",
              "      <th>NAME_EDUCATION_TYPE</th>\n",
              "      <th>NAME_FAMILY_STATUS</th>\n",
              "      <th>NAME_HOUSING_TYPE</th>\n",
              "      <th>DAYS_BIRTH</th>\n",
              "      <th>DAYS_EMPLOYED</th>\n",
              "      <th>FLAG_MOBIL</th>\n",
              "      <th>FLAG_WORK_PHONE</th>\n",
              "      <th>FLAG_PHONE</th>\n",
              "      <th>FLAG_EMAIL</th>\n",
              "      <th>OCCUPATION_TYPE</th>\n",
              "      <th>CNT_FAM_MEMBERS</th>\n",
              "      <th>MONTHS_BALANCE</th>\n",
              "      <th>STATUS</th>\n",
              "    </tr>\n",
              "  </thead>\n",
              "  <tbody>\n",
              "    <tr>\n",
              "      <th>31</th>\n",
              "      <td>5008806</td>\n",
              "      <td>M</td>\n",
              "      <td>Y</td>\n",
              "      <td>Y</td>\n",
              "      <td>0</td>\n",
              "      <td>112500.0</td>\n",
              "      <td>Working</td>\n",
              "      <td>Secondary / secondary special</td>\n",
              "      <td>Married</td>\n",
              "      <td>House / apartment</td>\n",
              "      <td>-21474</td>\n",
              "      <td>-1134</td>\n",
              "      <td>1</td>\n",
              "      <td>0</td>\n",
              "      <td>0</td>\n",
              "      <td>0</td>\n",
              "      <td>Security staff</td>\n",
              "      <td>2.0</td>\n",
              "      <td>0</td>\n",
              "      <td>C</td>\n",
              "    </tr>\n",
              "    <tr>\n",
              "      <th>61</th>\n",
              "      <td>5008808</td>\n",
              "      <td>F</td>\n",
              "      <td>N</td>\n",
              "      <td>Y</td>\n",
              "      <td>0</td>\n",
              "      <td>270000.0</td>\n",
              "      <td>Commercial associate</td>\n",
              "      <td>Secondary / secondary special</td>\n",
              "      <td>Single / not married</td>\n",
              "      <td>House / apartment</td>\n",
              "      <td>-19110</td>\n",
              "      <td>-3051</td>\n",
              "      <td>1</td>\n",
              "      <td>0</td>\n",
              "      <td>1</td>\n",
              "      <td>1</td>\n",
              "      <td>Sales staff</td>\n",
              "      <td>1.0</td>\n",
              "      <td>0</td>\n",
              "      <td>0</td>\n",
              "    </tr>\n",
              "    <tr>\n",
              "      <th>66</th>\n",
              "      <td>5008809</td>\n",
              "      <td>F</td>\n",
              "      <td>N</td>\n",
              "      <td>Y</td>\n",
              "      <td>0</td>\n",
              "      <td>270000.0</td>\n",
              "      <td>Commercial associate</td>\n",
              "      <td>Secondary / secondary special</td>\n",
              "      <td>Single / not married</td>\n",
              "      <td>House / apartment</td>\n",
              "      <td>-19110</td>\n",
              "      <td>-3051</td>\n",
              "      <td>1</td>\n",
              "      <td>0</td>\n",
              "      <td>1</td>\n",
              "      <td>1</td>\n",
              "      <td>Sales staff</td>\n",
              "      <td>1.0</td>\n",
              "      <td>-22</td>\n",
              "      <td>X</td>\n",
              "    </tr>\n",
              "    <tr>\n",
              "      <th>71</th>\n",
              "      <td>5008810</td>\n",
              "      <td>F</td>\n",
              "      <td>N</td>\n",
              "      <td>Y</td>\n",
              "      <td>0</td>\n",
              "      <td>270000.0</td>\n",
              "      <td>Commercial associate</td>\n",
              "      <td>Secondary / secondary special</td>\n",
              "      <td>Single / not married</td>\n",
              "      <td>House / apartment</td>\n",
              "      <td>-19110</td>\n",
              "      <td>-3051</td>\n",
              "      <td>1</td>\n",
              "      <td>0</td>\n",
              "      <td>1</td>\n",
              "      <td>1</td>\n",
              "      <td>Sales staff</td>\n",
              "      <td>1.0</td>\n",
              "      <td>0</td>\n",
              "      <td>C</td>\n",
              "    </tr>\n",
              "    <tr>\n",
              "      <th>98</th>\n",
              "      <td>5008811</td>\n",
              "      <td>F</td>\n",
              "      <td>N</td>\n",
              "      <td>Y</td>\n",
              "      <td>0</td>\n",
              "      <td>270000.0</td>\n",
              "      <td>Commercial associate</td>\n",
              "      <td>Secondary / secondary special</td>\n",
              "      <td>Single / not married</td>\n",
              "      <td>House / apartment</td>\n",
              "      <td>-19110</td>\n",
              "      <td>-3051</td>\n",
              "      <td>1</td>\n",
              "      <td>0</td>\n",
              "      <td>1</td>\n",
              "      <td>1</td>\n",
              "      <td>Sales staff</td>\n",
              "      <td>1.0</td>\n",
              "      <td>0</td>\n",
              "      <td>C</td>\n",
              "    </tr>\n",
              "  </tbody>\n",
              "</table>\n",
              "</div>"
            ],
            "text/plain": [
              "         ID CODE_GENDER FLAG_OWN_CAR  ... CNT_FAM_MEMBERS  MONTHS_BALANCE  STATUS\n",
              "31  5008806           M            Y  ...             2.0               0       C\n",
              "61  5008808           F            N  ...             1.0               0       0\n",
              "66  5008809           F            N  ...             1.0             -22       X\n",
              "71  5008810           F            N  ...             1.0               0       C\n",
              "98  5008811           F            N  ...             1.0               0       C\n",
              "\n",
              "[5 rows x 20 columns]"
            ]
          },
          "metadata": {},
          "execution_count": 27
        }
      ]
    },
    {
      "cell_type": "code",
      "metadata": {
        "colab": {
          "base_uri": "https://localhost:8080/"
        },
        "id": "0MDuSoAGXHhZ",
        "outputId": "95c41057-a3df-4fe6-cc9f-2daed0c5eabf"
      },
      "source": [
        "print('The shape of the cleaned data set is ' + str(df4.shape) +'.')"
      ],
      "execution_count": null,
      "outputs": [
        {
          "output_type": "stream",
          "name": "stdout",
          "text": [
            "The shape of the cleaned data set is (25134, 20).\n"
          ]
        }
      ]
    },
    {
      "cell_type": "code",
      "metadata": {
        "colab": {
          "base_uri": "https://localhost:8080/",
          "height": 469
        },
        "id": "LdyELlM6XYTe",
        "outputId": "aab1825a-46da-488f-b4fa-f570280b5242"
      },
      "source": [
        "df4['Age']=-(df4['DAYS_BIRTH'])//365\t\n",
        "print(df4['Age'].value_counts(bins=10,normalize=False,sort=False))\n",
        "df4['Age'].plot(kind='hist',bins=20,density=False)"
      ],
      "execution_count": null,
      "outputs": [
        {
          "output_type": "stream",
          "name": "stdout",
          "text": [
            "(19.951999999999998, 24.7]     630\n",
            "(24.7, 29.4]                  3375\n",
            "(29.4, 34.1]                  4267\n",
            "(34.1, 38.8]                  3539\n",
            "(38.8, 43.5]                  4350\n",
            "(43.5, 48.2]                  3566\n",
            "(48.2, 52.9]                  2490\n",
            "(52.9, 57.6]                  1924\n",
            "(57.6, 62.3]                   819\n",
            "(62.3, 67.0]                   174\n",
            "Name: Age, dtype: int64\n"
          ]
        },
        {
          "output_type": "execute_result",
          "data": {
            "text/plain": [
              "<matplotlib.axes._subplots.AxesSubplot at 0x7efff8d6a3d0>"
            ]
          },
          "metadata": {},
          "execution_count": 29
        },
        {
          "output_type": "display_data",
          "data": {
            "image/png": "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\n",
            "text/plain": [
              "<Figure size 432x288 with 1 Axes>"
            ]
          },
          "metadata": {
            "needs_background": "light"
          }
        }
      ]
    },
    {
      "cell_type": "code",
      "metadata": {
        "colab": {
          "base_uri": "https://localhost:8080/",
          "height": 282
        },
        "id": "Hz2Z57CvX0BS",
        "outputId": "8d8a7cb1-e92f-499b-e47b-c35ad3112ee4"
      },
      "source": [
        "df4['Employed']=-(df4['DAYS_EMPLOYED'])//365\t\n",
        "df4[df4['Employed']<0] = np.nan # replace by na\n",
        "df4['DAYS_EMPLOYED']\n",
        "df4['Employed'].fillna(df4['Employed'].mean(),inplace=False) #replace na by mean\n",
        "df4['Employed'].plot(kind='hist',bins=20,density=False)"
      ],
      "execution_count": null,
      "outputs": [
        {
          "output_type": "execute_result",
          "data": {
            "text/plain": [
              "<matplotlib.axes._subplots.AxesSubplot at 0x7efff8c54250>"
            ]
          },
          "metadata": {},
          "execution_count": 30
        },
        {
          "output_type": "display_data",
          "data": {
            "image/png": "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\n",
            "text/plain": [
              "<Figure size 432x288 with 1 Axes>"
            ]
          },
          "metadata": {
            "needs_background": "light"
          }
        }
      ]
    },
    {
      "cell_type": "code",
      "metadata": {
        "colab": {
          "base_uri": "https://localhost:8080/"
        },
        "id": "Ps8P2f9qYLKo",
        "outputId": "c0b0ae3c-33ad-4c3a-9875-c9b5071f98b6"
      },
      "source": [
        "df4['OCCUPATION_TYPE'].value_counts()"
      ],
      "execution_count": null,
      "outputs": [
        {
          "output_type": "execute_result",
          "data": {
            "text/plain": [
              "Laborers                 6211\n",
              "Core staff               3591\n",
              "Sales staff              3485\n",
              "Managers                 3012\n",
              "Drivers                  2138\n",
              "High skill tech staff    1383\n",
              "Accountants              1241\n",
              "Medicine staff           1207\n",
              "Cooking staff             655\n",
              "Security staff            592\n",
              "Cleaning staff            551\n",
              "Private service staff     344\n",
              "Low-skill Laborers        175\n",
              "Waiters/barmen staff      174\n",
              "Secretaries               151\n",
              "HR staff                   85\n",
              "Realty agents              79\n",
              "IT staff                   60\n",
              "Name: OCCUPATION_TYPE, dtype: int64"
            ]
          },
          "metadata": {},
          "execution_count": 31
        }
      ]
    },
    {
      "cell_type": "code",
      "metadata": {
        "colab": {
          "base_uri": "https://localhost:8080/",
          "height": 717
        },
        "id": "IXfKYkB7YUMB",
        "outputId": "3682df4f-7bbe-4a6b-f9ff-493b38ba5dc5"
      },
      "source": [
        "df4['OCCUPATION_TYPE'].value_counts().sort_values().plot(kind='barh', figsize=(9,12))\n"
      ],
      "execution_count": null,
      "outputs": [
        {
          "output_type": "execute_result",
          "data": {
            "text/plain": [
              "<matplotlib.axes._subplots.AxesSubplot at 0x7efff8761250>"
            ]
          },
          "metadata": {},
          "execution_count": 32
        },
        {
          "output_type": "display_data",
          "data": {
            "image/png": "iVBORw0KGgoAAAANSUhEUgAAAnQAAAKrCAYAAAB4ARA1AAAABHNCSVQICAgIfAhkiAAAAAlwSFlzAAALEgAACxIB0t1+/AAAADh0RVh0U29mdHdhcmUAbWF0cGxvdGxpYiB2ZXJzaW9uMy4yLjIsIGh0dHA6Ly9tYXRwbG90bGliLm9yZy+WH4yJAAAgAElEQVR4nOzde7hdVX3v//eHBAPhEqogDahEbdBKAhGCLR6ipFWqBqtWSqy2gLcg/o4ebFFp8VgVL7HpaSlYpUgFj1BBsSolCCoXQVRIAiEJF/EUYhG8UTSCIEL8/v5Yc+t2uQM7yd7ZGXu/X8+zn8w15phjfOfin88zxpyLVBWSJElq1zZjXYAkSZI2j4FOkiSpcQY6SZKkxhnoJEmSGmegkyRJatzksS5Ao2fXXXetGTNmjHUZkiRphKxYseLuqtqtv91AN47NmDGD5cuXj3UZkiRphCT59lDtbrlKkiQ1zkAnSZLUOAOdJElS4wx0kiRJjTPQSZIkNc5AJ0mS1DgDnSRJUuMMdJIkSY3zh4XHsdV3rmPGCUvHugxJkiaMtYsXjMm8rtBJkiQ1zkAnSZLUOAOdJElS4wx0kiRJjTPQbUCS+zai77uSHD+a9UiSJG2IgW6MJRnWm8bD7SdJkiYeA91GSPLiJNckuT7Jl5PsPuj0fkm+nuRbSV7f9U+SJUnWJFmdZGHXfkiSq5JcANyUZFLXb1mSVUmO2UC/HZIsTXJDN+bCLf4lSJKkrY6rPhvnq8DvV1UleR3wNuCvunP7Ar8P7ABcn2QpcBAwB9gP2BVYluTKrv/+wKyquj3JImBdVR2YZApwdZIvDtHv5cBdVbUAIMm0Ub9jSZK01TPQbZwnAOclmQ48Brh90LnPV9UDwANJLgeeBRwMfLKq1gPfT/IV4EDgJ8C1VTVw/aHAvkkO7z5PA2YCP+/rtxr4P0k+CFxYVVf1F9iFw0UAk3bebaTuW5IkbcXcct04pwIfqqrZwDHAdoPOVV/f/s/9fjroOMCbqmpO9/fkqvpif7+qupXeit1q4L1J3tk/aFWdXlVzq2rupKku4EmSNBEY6DbONODO7viovnMvSbJdkscBhwDLgKuAhd0zcrsBzwGuHWLcS4Bjk2wLkGTvJDv0d0qyB3B/VZ0NLKEX7iRJ0gTnluuGTU3ynUGf/wF4F/DpJD8CLgOePOj8KuByes/KnVRVdyX5LL3n6G6gt2L3tqr6XpKn9811BjADuC5JgB8CLx2iptnAkiS/AB4Cjt28W5QkSeNBqh5tZ1CtmjJ9Zk0/6uSxLkOSpAlj7eIFozp+khVVNbe/3S1XSZKkxhnoJEmSGmegkyRJapyBTpIkqXG+5TqOzd5zGstH+eFMSZI09lyhkyRJapyBTpIkqXEGOkmSpMYZ6CRJkhpnoJMkSWqcgU6SJKlxBjpJkqTGGegkSZIaZ6CTJElqnIFOkiSpcQY6SZKkxhnoJEmSGmegkyRJapyBTpIkqXEGOkmSpMYZ6CRJkhpnoJMkSWrc5LEuQKNn9Z3rmHHC0rEuQ9I4sXbxgrEuQdIGuEInSZLUOAOdJElS4wx0kiRJjTPQSZIkNc5AJ0mS1DgDHZDkt5Ocm+Q/k6xIclGSvbfQ3MclmTqMfvOS3JhkZZLtkyzpPi/ZEnVKkqSt14T/2ZIkAT4LfLyqXtG17QfsDtw6jOsnV9XDm1HCccDZwP2P0u9VwAeq6uxu3kXAY6tq/WbMLUmSxgFX6GA+8FBVnTbQUFU3VNVV6VmSZE2S1UkWAiQ5JMlVSS4Abkoyqeu3LMmqJMf0T5JkhyRLk9zQjbcwyZuBPYDLk1ze9ftIkuXd6tu7u7bXAUcAJyU5p5t3R2DFQE2SJGnimvArdMAsYMUGzv0JMAfYD9gVWJbkyu7c/sCsqrq9Wy1bV1UHJpkCXJ3ki1V1+6CxXgDcVVULAJJMq6p1Sf4SmF9Vd3f9Tqyqe5JMAi5Nsm9VnZHkYODCqjq/u/6+qprTX3BXyyKASTvvtslfiiRJaocrdI/sYOCTVbW+qr4PfAU4sDt37aDAdihwZJKVwDXA44CZfWOtBp6f5INJ5lXVug3MeUSS64DrgX2AZ2xMwVV1elXNraq5k6ZO25hLJUlSo1yhgxuBwzfhup8OOg7wpqq6ZEOdq+rWJPsDLwLem+TSqnrP4D5JngwcDxxYVT9Kchaw3SbUJkmSJhBX6OAyYEq3VQlAkn2TzAOuAhZ2z8jtBjwHuHaIMS4Bjk2ybXf93kl2GNwhyR7A/d1LDUvobdkC3Avs1B3vTC8orkuyO/DCkbpJSZI0fk34FbqqqiQvA05O8nbgZ8Baem+ffhU4CLgBKOBtVfW9JE/vG+YMYAZwXffW7A+Bl/b1mQ0sSfIL4CHg2K79dODiJHdV1fwk1wO3AHcAV4/ozUqSpHEpVTXWNWiUTJk+s6YfdfJYlyFpnFi7eMFYlyBNeElWVNXc/na3XCVJkhpnoJMkSWqcgU6SJKlxE/6liPFs9p7TWO4zL5IkjXuu0EmSJDXOQCdJktQ4A50kSVLjDHSSJEmNM9BJkiQ1zkAnSZLUOAOdJElS4wx0kiRJjTPQSZIkNc5AJ0mS1DgDnSRJUuMMdJIkSY0z0EmSJDXOQCdJktQ4A50kSVLjDHSSJEmNM9BJkiQ1bvJYF6DRs/rOdcw4YelYlyGpEWsXLxjrEiRtIlfoJEmSGmegkyRJapyBTpIkqXEGOkmSpMYZ6CRJkho3IQNdkhOT3JhkVZKVSX7vUfqfleTwUahjlyRvHGbfNye5Ock5SaYk+XJX+8KRrkuSJLVlwv1sSZKDgMOA/avqwSS7Ao8Zo3J2Ad4IfHgYfd8IPK+qvpPk9wGqas5oFidJktowEVfopgN3V9WDAFV1d1XdBZDknUmWJVmT5PQk6b84yQFJvpJkRZJLkkzv2t+c5KZu1e/cIa7bJ8m13araqiQzgcXAU7u2JUl2THJpkuuSrE7yku7a04CnAF9I8nbgbODA7rqnjtL3JEmSGpGqGusatqgkOwJfBaYCXwbOq6qvdOceW1X3dMefAD5VVf+R5CzgQuDzwFeAl1TVD7vtzj+qqtckuQt4crfqt0tV/bhv3lOBb1TVOUkeA0wCdgcurKpZXZ/JwNSq+km3cvgNYGZVVZK1wNyqujvJIcDxVXXYEPe3CFgEMGnn3Q54wrFnjtyXJ2lc84eFpa1fkhVVNbe/fcKt0FXVfcAB9ELPD4HzkhzdnZ6f5Jokq4E/APbpu/xpwCzgS0lWAu8AntCdWwWck+TPgYeHmPrrwN90K2x7VdUDQ/QJ8P4kq+iFzT3phb6Nub/Tq2puVc2dNHXaxlwqSZIaNeGeoQOoqvXAFcAVXXg7qtsm/TC9VbA7krwL2K7v0gA3VtVBQwy7AHgO8GLgxCSzq+qXwa6q/i3JNV2/i5IcA9zWN8argN2AA6rqoW5Vrr8GSZKkXzPhVuiSPK17fm3AHODb/Co43d1tyw71Vus3gd26FytIsm33bNw2wBOr6nLg7cA0YMe+eZ8C3FZVp9Dbut0XuBfYaVC3acAPujA3H9hrM29XkiRNABNxhW5H4NQku9DbGv1/wKKq+nGSjwJrgO8By/ovrKqfdz9fckqSafS+v5OBW4Gzu7YAp/Q/QwccAfxFkoe68d9fVfckuTrJGuALwAeB/+hWDZcDt4z43UuSpHFnwr0UMZFMmT6zph918liXIakRvhQhbf18KUKSJGmcMtBJkiQ1zkAnSZLUuIn4UsSEMXvPaSz3mRhJksY9V+gkSZIaZ6CTJElqnIFOkiSpcQY6SZKkxhnoJEmSGmegkyRJapyBTpIkqXEGOkmSpMYZ6CRJkhpnoJMkSWqcgU6SJKlxBjpJkqTGGegkSZIaZ6CTJElqnIFOkiSpcQY6SZKkxhnoJEmSGjd5rAvQ6Fl95zpmnLB0rMuQNIS1ixeMdQmSxhFX6CRJkhpnoJMkSWqcgU6SJKlxBjpJkqTGGegkSZIaN+EDXZJKcvagz5OT/DDJhWNZlyRJ0nBN+EAH/BSYlWT77vPzgTvHsJ4hJfEnZiRJ0pAMdD0XAQM/CvVnwCcHTiR5VpKvJ7k+ydeSPK1rPzrJvye5OMm3kvzdoGs+kmR5khuTvHtQ+4uS3JJkRZJTBlYBk+yQ5GNJru3mecmgOS5IchlwaZLpSa5MsjLJmiTzRv+rkSRJWzsDXc+5wCuSbAfsC1wz6NwtwLyqeibwTuD9g87NARYCs4GFSZ7YtZ9YVXO7sZ6bZN9u7H8BXlhVBwC7DRrnROCyqnoWMB9YkmSH7tz+wOFV9VzglcAlVTUH2A9Y2X8jSRZ1YXL5+vvXbfIXIkmS2uE2HlBVq5LMoLc6d1Hf6WnAx5PMBArYdtC5S6tqHUCSm4C9gDuAI5Isovf9TgeeQS8831ZVt3fXfhJY1B0fCvxxkuO7z9sBT+qOv1RV93THy4CPJdkW+FxV/Uagq6rTgdMBpkyfWRvzPUiSpDa5QvcrFwB/z6Dt1s5JwOVVNQt4Mb2wNeDBQcfrgclJngwcD/xhVe0LLO27ZigBXl5Vc7q/J1XVzd25nw50qqorgefQe8bvrCRHbtQdSpKkcclA9ysfA95dVav72qfxq5ckjh7GODvTC2HrkuwOvLBr/ybwlG4lEHpbtQMuAd6UJABJnjnUwEn2Ar5fVR8FzqC3HStJkiY4A12nqr5TVacMcervgA8kuZ5hbFFX1Q3A9fSevfs34Oqu/QHgjcDFSVYA9wIDD7mdRG8rd1WSG7vPQzkEuKGrZSHwT8O7O0mSNJ6lysestpQkO1bVfd1K3D8D36qqfxyt+aZMn1nTjzp5tIaXtBnWLl7w6J0kqU+SFd2Ll7/GFbot6/VJVgI30tvK/ZcxrkeSJI0DvuW6BXWrcaO2IidJkiYmV+gkSZIa5wrdODZ7z2ks9zkdSZLGPVfoJEmSGmegkyRJapyBTpIkqXEGOkmSpMYZ6CRJkhpnoJMkSWqcgU6SJKlxBjpJkqTGGegkSZIaZ6CTJElqnIFOkiSpcQY6SZKkxhnoJEmSGmegkyRJapyBTpIkqXEGOkmSpMYZ6CRJkhpnoJMkSWrc5LEuQKNn9Z3rmHHC0rEuQ/qltYsXjHUJkjQuuUInSZLUOAOdJElS4wx0kiRJjTPQSZIkNc5AtwmSrE+yMsmNSW5I8ldJhvwuk+yR5PwtXaMkSZo4fMt10zxQVXMAkjwe+DdgZ+BvB3dKMrmq7gIO39wJu7Ee3txxJEnS+OMK3Waqqh8Ai4D/mZ6jk1yQ5DLg0iQzkqwBSPKNJPsMXJvkiiRzk+yQ5GNJrk1yfZKXdOf7x5qe5MpudXBNknljcc+SJGnrYqAbAVV1GzAJeHzXtD9weFU9t6/recARAEmmA9OrajlwInBZVT0LmA8sSbLDEGO9ErikWx3cD1g5irclSZIaYaAbHV+qqnuGaP8Uv9p+PQIYeLbuUOCEJCuBK4DtgCcNMdYy4NVJ3gXMrqp7+ydIsijJ8iTL19+/bkRuRpIkbd0MdCMgyVOA9cAPuqafDtWvqu4E/jvJvsBCeit2AAFeXlVzur8nVdXN/WNV1ZXAc4A7gbOSHDnEHKdX1dyqmjtp6rSRuD1JkrSVM9BtpiS7AacBH6qqGsYl5wFvA6ZV1aqu7RLgTUnSjfnMDcy1F/D9qvoocAa97VhJkjTB+Zbrptm+2x7dFngY+ATwD8O89nzgn4CTBrWdBJwMrOp+/uR24LAhrj0EeGuSh4D7gN9YoZMkSRNPhreopBZNmT6zph918liXIf3S2sULxroESWpakhVVNbe/3S1XSZKkxhnoJEmSGmegkyRJapyBTpIkqXG+5TqOzd5zGst9CF2SpHHPFTpJkqTGGegkSZIaZ6CTJElqnIFOkiSpcQY6SZKkxhnoJEmSGmegkyRJapyBTpIkqXEGOkmSpMYZ6CRJkhpnoJMkSWqcgU6SJKlxBjpJkqTGGegkSZIaZ6CTJElqnIFOkiSpcQY6SZKkxk0e6wI0elbfuY4ZJywd6zI0DGsXLxjrEiRJDXOFTpIkqXEGOkmSpMYZ6CRJkhpnoJMkSWqcgU6SJKlxIxLoktzX9/noJB/qjt+Q5MhHuf6X/Tdh7rOSHD5E+xlJntEdr02y61C1dm27JHnjpsz/SDUM89rjkkwdRr95SW5MsjLJ9kmWdJ+XbMq8kiRp/Bj1ny2pqtNGe44NzPu6jei+C/BG4MOjVM4jOQ44G7j/Ufq9CvhAVZ0NkGQR8NiqWj/K9UmSpK3cqG+5JnlXkuO74wOTrOpWmZYkWTOo6x5JLk7yrSR/t4GxFie5qRvj74c4f1K3WjYpyRVJ5g6zzMXAUwfq6sZ6a5Jl3VzvHjTHkV3bDUk+MWiM5yT5WpLbNrBiuEOSpd11a5IsTPJmYA/g8iSXd/0+kmR5t/r27q7tdcARwElJzklyAbAjsCLJwmHeoyRJGqdGaoVu+yQrB31+LHDBEP3OBF5fVV9Psrjv3BzgmcCDwDeTnFpVdwycTPI44GXA06uqkuwy+OIuiO0EvLo7vzH1nwDMqqo53ViHAjOBZwEBLkjyHOC/gXcAz66qu5M8dtAY04GDgad3935+3xwvAO6qqgXdHNOqal2SvwTmV9XdXb8Tq+qeJJOAS5PsW1VnJDkYuLCqzu+uv2+g3r7vYRGwCGDSzrttzHcgSZIaNVIrdA9U1ZyBP+Cd/R26ALZTVX29a/q3vi6XVtW6qvoZcBOwV9/5dcDPgH9N8if8+hbl/wamVdUbqqpG4H4O7f6uB66jF9JmAn8AfHogfFXVPYOu+VxV/aKqbgJ2H2LM1cDzk3wwybyqWreBuY9Icl039z7AMzam8Ko6varmVtXcSVOnbcylkiSpUVvTW64PDjpeT9/qYVU9TG/F7HzgMODiQaeXAQf0rZhtjtB7Xm0gpP5OVf3ro1wzuP7fWB6sqluB/ekFu/cmGSr0Phk4HvjDqtoXWApst6k3IUmSJoYtFuiq6sfAvUl+r2t6xcZcn2RHeqtwFwFvAfYbdPpies/BLU2y0yaUdy+97doBlwCv6eYkyZ5JHg9cBvxpt/3LxgTIJHsA93cvNSyhF+76594Z+CmwLsnuwAs34V4kSdIEM+pvufZ5LfDRJL8AvkJvG3W4dgI+n2Q7eitgfzn4ZFV9ugtzFyR50cYUVVX/neTq7iWNL1TVW5P8LvD17lm8+4A/r6obk7wP+EqS9fS2RY8e5jSzgSXdvT8EHNu1nw5cnOSuqpqf5HrgFuAO4OqNuQ9JkjQxZWQeORvmZMmOVXVfd3wCML2q/tcWK2CCmTJ9Zk0/6uSxLkPDsHbxgrEuQZLUgCQrquo3fsVjS6/QLUjy192832b4q1uSJEnagC0a6KrqPOC8LTmnJEnSeLc1veUqSZKkTbClt1y1Bc3ecxrLfTZLkqRxzxU6SZKkxhnoJEmSGmegkyRJapyBTpIkqXEGOkmSpMYZ6CRJkhpnoJMkSWqcgU6SJKlxBjpJkqTGGegkSZIaZ6CTJElqnIFOkiSpcQY6SZKkxhnoJEmSGmegkyRJapyBTpIkqXEGOkmSpMZNHusCNHpW37mOGScsHesyJqy1ixeMdQmSpAnCFTpJkqTGGegkSZIaZ6CTJElqnIFOkiSpcQY6SZKkxo27QJfkpUkqydO3gjqesRnXz0jyypGsSZIkjU/jLtABfwZ8tft3LL0U2ORAB8wADHSSJOlRjatAl2RH4GDgtcArurZJSf4+yZokq5K8qWs/MMnXktyQ5NokOyXZLsmZSVYnuT7J/K7v0Uk+NGieC5Mc0h3fl+R93TjfSLJ7kmcDfwwsSbIyyVOTvD7Jsq7fZ5JM7a4/K8kpXS23JTm8m2YxMK+7/i1J9unqXNndx8wt861KkqSt3Xj7YeGXABdX1a1J/jvJAcCz6K12zamqh5M8NsljgPOAhVW1LMnOwAPA/wKqqmZ3W7ZfTLL3o8y5A/CNqjoxyd8Br6+q9ya5ALiwqs4HSPLjqvpod/xeeqHz1G6M6fSC6NOBC4DzgROA46vqsO6aU4F/qqpzuvonDVVMkkXAIoBJO++2UV+eJElq07haoaO3zXpud3xu9/l5wL9U1cMAVXUP8DTgu1W1rGv7SXf+YODsru0W4NvAowW6nwMXdscr6IXHocxKclWS1cCrgH0GnftcVf2iqm4Cdt/A9V8H/ibJ24G9quqBoTpV1elVNbeq5k6aOu1RSpckSePBuFmhS/JY4A+A2UmK3gpWActGYPiH+fXwu92g44eqqrrj9Wz4Oz0LeGlV3ZDkaOCQQeceHHScoS6uqn9Lcg2wALgoyTFVddmw70CSJI1b42mF7nDgE1W1V1XNqKonArcDNwDHJJkMvwx+3wSmJzmwa9upO38VvdUzuq3WJ3V91wJzkmyT5In0tnEfzb3AToM+7wR8N8m2A3NszPVJngLcVlWnAJ8H9h3GGJIkaQIYT4Huz4DP9rV9ht7zaf8FrEpyA/DKqvo5sBA4tWv7Er1Vtw8D23TboucBR1fVg8DV9MLhTcApwHXDqOdc4K3dyxVPBf43cE031i3DuH4VsL57ieItwBHAmiQrgVnA/x3GGJIkaQLIr3YLNd5MmT6zph918liXMWGtXbxgrEuQJI0zSVZU1dz+9vG0QidJkjQhGegkSZIaZ6CTJElq3Lj52RL9ptl7TmO5z3FJkjTuuUInSZLUOAOdJElS4wx0kiRJjTPQSZIkNc5AJ0mS1DgDnSRJUuMMdJIkSY0z0EmSJDXOQCdJktQ4A50kSVLjDHSSJEmNM9BJkiQ1zkAnSZLUOAOdJElS4wx0kiRJjTPQSZIkNc5AJ0mS1LjJY12ARs/qO9cx44SlY13GhLJ28YKxLkGSNAG5QidJktQ4A50kSVLjDHSSJEmNM9BJkiQ1zkAnSZLUuKYCXZJKcvagz5OT/DDJhRs5zhVJ5nbHFyXZ5RH6viHJkZte9aPWclySqcPoNy/JjUlWJtk+yZLu85LRqk2SJLWhtZ8t+SkwK8n2VfUA8Hzgzs0ZsKpe9CjnT9uc8YfhOOBs4P5H6fcq4ANVdTZAkkXAY6tq/SjXJ0mStnJNrdB1LgIGfuzrz4BPDpxIskOSjyW5Nsn1SV7StW+f5NwkNyf5LLD9oGvWJtm1Oz4yyaokNyT5RNf2riTHd8dXJPlgN/6tSeZ17ZO6FbNl3fXH9Bfd1ba0G3tNkoVJ3gzsAVye5PKu30eSLO9W397dtb0OOAI4Kck5SS4AdgRWJFk4kl+uJElqT2srdADnAu/stln3BT4GzOvOnQhcVlWv6bZRr03yZeAY4P6q+t0k+wLX9Q+aZB/gHcCzq+ruJI/dwPyTq+pZSV4E/C3wPOC1wLqqOjDJFODqJF+sqtsHXfcC4K6qWtDNN62q1iX5S2B+Vd09cA9VdU+SScClSfatqjOSHAxcWFXnd9ffV1VzhriPRcAigEk77zaMr1OSJLWuuRW6qloFzKC3OndR3+lDgROSrASuALYDngQ8h9625sD1q4YY+g+ATw8Eq6q6ZwMl/Hv374qujoF5j+zmvQZ4HDCz77rVwPO7Fb55VbVuA+MfkeQ64HpgH+AZG+g3pKo6varmVtXcSVOnbcylkiSpUS2u0AFcAPw9cAi98DQgwMur6puDOycZybkf7P5dz6++vwBvqqpLNnRRVd2aZH/gRcB7k1xaVe/pq/PJwPHAgVX1oyRn0QulkiRJG9TcCl3nY8C7q2p1X/slwJvSJbgkz+zarwRe2bXNordV2+8y4E+TPK7rt6Et16FcAhybZNvu2r2T7DC4Q5I96G37ng0sAfbvTt0L7NQd70zvxY91SXYHXrgRNUiSpAmqyRW6qvoOcMoQp04CTgZWJdkGuB04DPgIcGaSm4Gb6W2X9o95Y5L3AV9Jsp7elufRwyzpDHrbr9d1YfKHwEv7+swGliT5BfAQcGzXfjpwcZK7qmp+kuuBW4A7gKuHOb8kSZrAUlVjXYNGyZTpM2v6USePdRkTytrFCx69kyRJmyjJiqqa29/e6parJEmSOgY6SZKkxhnoJEmSGtfkSxEantl7TmO5z3RJkjTuuUInSZLUOAOdJElS4wx0kiRJjTPQSZIkNc5AJ0mS1DgDnSRJUuMMdJIkSY0z0EmSJDXOQCdJktQ4A50kSVLjDHSSJEmNM9BJkiQ1zkAnSZLUOAOdJElS4wx0kiRJjTPQSZIkNc5AJ0mS1LjJY12ARs/qO9cx44SlY13GiFi7eMFYlyBJ0lbLFTpJkqTGGegkSZIaZ6CTJElqnIFOkiSpcQY6SZKkxjUd6JL8dpJzk/xnkhVJLkqy9yaMc0iSC4do/+MkJ4xMtRuc99nD6DclyZeTrEyyMMm8JDd2n7cfrfokSVIbmv3ZkiQBPgt8vKpe0bXtB+wO3DoSc1TVBcAFIzHWBhwC3Ad87VH6PbOrZw5AktOAD1TV2aNYmyRJakTLK3TzgYeq6rSBhqq6oaquSs+SJGuSrE6yEHohcKj2wZIcmOT6JE9NcnSSD3XtZyU5JcnXktyW5PCufZskH05yS5IvdauEhw8x7puT3JRkVbeqOAN4A/CWbqVtXpIXJ7mmm//LSXZP8njgbODArt8xwBHASUnOGfFvVZIkNafZFTpgFrBiA+f+BJgD7AfsCixLciXw7A20A9Btf54KvKSq/ivJvL5xpwMHA0+nt3J3fjfXDOAZwOOBm4GPDVHTCcCTq+rBJLtU1Y+7lbb7qurvu/l/C/j9qqokrwPeVlV/1R0fX1WHdf0OAi6sqvOH+2VJkqTxq+VA90gOBj5ZVeuB7yf5CnDgI7T/BPhd4HTg0Kq6awPjfq6qfgHclGT3QXN9umv/XpLLN3DtKuCcJJ8DPreBPk8AzksyHXgMcPtG3DMASRYBiwAm7bzbxl4uSZIa1PKW643AASM43neBn9E9r7YBDw46zkaOvwD4Z2B/eiuDQ4XpU4EPVdVs4Bhgu42cg6o6varmVtXcSVOnbezlkiSpQS0HusuAKd2KFABJ9u22Sa8CFiaZlGQ34DnAtY/QDvBjeqHrA0kO2Yg6rgZe3j1Ltzu9Fx1+TZJtgCdW1eXA24FpwI7AvcBOg7pOA+7sjo/aiBokSdIE1mygq6oCXgY8r/vZkhuBD4NM81QAACAASURBVADfo/f26yrgBnrB721V9UjtA2N+HzgM+OckvzfMUj4DfAe4id7LC9cB6/r6TALOTrIauB44pap+DPwH8LKBlyKAdwGfTrICuHtjvg9JkjRxpZeLtDmS7FhV9yV5HL0Vv/8xOCiOlSnTZ9b0o04e6zJGxNrFC8a6BEmSxlySFVU1t799vL4UsaVdmGQXei8ynLQ1hDlJkjRxGOhGQFUdMtY1SJKkiavZZ+gkSZLUY6CTJElqnFuu49jsPaex3JcJJEka91yhkyRJapyBTpIkqXEGOkmSpMYZ6CRJkhpnoJMkSWqcgU6SJKlxBjpJkqTGGegkSZIaZ6CTJElqnIFOkiSpcQY6SZKkxhnoJEmSGmegkyRJapyBTpIkqXEGOkmSpMYZ6CRJkhpnoJMkSWrc5LEuQKNn9Z3rmHHC0rEuY6OtXbxgrEuQJKkprtBJkiQ1zkAnSZLUOAOdJElS4wx0kiRJjWs60CU5McmNSVYlWZnk90Z5vvckeV53fFySqSMw5tFJ9hhGv6d393h9kqcmeXOSm5Ocs7k1SJKktjX7lmuSg4DDgP2r6sEkuwKPGcX5JlXVOwc1HQecDdy/mUMfDawB7nqUfi8Fzq+q93b1vBF4XlV9ZzPnlyRJjWs20AHTgbur6kGAqrp74ESSA4B/AHYE7gaOrqrvJvkd4DRgN2A98KfAE4Hjq+qw7toPAcur6qwka4HzgOcDf5fkBcCFwB7d3+VJ7gY+AexbVcd1Y7weeEZVvWVQTZOAfwXmAgV8DLij+3xOkgeAg4C3Ai8Gtge+BhwDvJBegFyf5A+BbwJPAb6Q5GNV9Y8j85VKkqQWtbzl+kXgiUluTfLhJM8FSLItcCpweFUdQC84va+75hzgn6tqP+DZwHeHMc9/V9X+VXXuQENVnUJvRW1+Vc0HPgW8uJsb4NXdvIPNAfasqllVNRs4s6rOB5YDr6qqOVX1APChqjqwqmbRC3WHVdVF9ILoP1bV/Kp6w6D5DXOSJE1wza7QVdV93UrcPGA+cF6SE+gFpFnAl5IATAK+m2QneoHqs931PwPo+jyS84ZZy2XAYUluBratqtV93W4DnpLkVGApvUA6lPlJ3gZMBR4L3Aj8x6PVMCDJImARwKSddxvuZZIkqWHNBjqAqloPXAFckWQ1cBSwArixqg4a3LcLdEN5mF9fqdyu7/xPh1nOGcDfALcAZw5R64+S7Af8EfAG4AjgNX01bgd8GJhbVXckedcQ9TyiqjodOB1gyvSZtTHXSpKkNjW75ZrkaUlmDmqaA3yb3vNlu3UvTZBk2yT7VNW9wHeSvLRrn9K9pfpt4Bnd512APxxmCfcCvwyJVXUNvefxXgl8coh6dwW2qarPAO8A9h9inIHwdneSHYHDh1mLJEmawFpeodsROLULYQ8D/w9YVFU/T3I4cEqSafTu8WR6W5d/AfxLkvcADwF/WlW3JfkUvTdNbweuH+b8pwMXJ7mre44Oes/SzamqHw3Rf0/gzCQDIfqvu3/PAk4b9FLER7tavgcsG2YtkiRpAkuVu3IjJcmF9F5cuHSsa4Heluv0o04e6zI22trFC8a6BEmStkpJVlTV3P72ZrdctyZJdklyK/DA1hLmJEnSxNHylutWo6p+DOw91nVIkqSJyRU6SZKkxhnoJEmSGueW6zg2e89pLPcFA0mSxj1X6CRJkhpnoJMkSWqcgU6SJKlxBjpJkqTGGegkSZIaZ6CTJElqnIFOkiSpcQY6SZKkxhnoJEmSGmegkyRJapyBTpIkqXEGOkmSpMYZ6CRJkhpnoJMkSWqcgU6SJKlxBjpJkqTGGegkSZIaN3msC9DoWX3nOmacsHSsyxiWtYsXjHUJkiQ1yxU6SZKkxhnoJEmSGmegkyRJapyBTpIkqXEGOkmSpMY1F+iS/HaSc5P8Z5IVSS5KsneSGUnWjMJ870nyvJEed9D4RyfZYxj9np5kZZLrkzw1yZuT3JzknNGqTZIktaGpny1JEuCzwMer6hVd237A7sAdozFnVb1zNMYd5GhgDXDXo/R7KXB+Vb0XIMkbgedV1XdGtzxJkrS1a22Fbj7wUFWdNtBQVTdU1VWDOyWZlGRJkmVJViU5pmvfMcmlSa5LsjrJS7r2Gd1q10eT3Jjki0m2786dleTw7nhtkncPuv7pXftuSb7UXXtGkm8n2XWIms5Ksqa79i3duHOBc7rVt+2TvLOre02S09PzIuA44Ngklyc5DXgK8IUkbxml71qSJDWitUA3C1gxjH6vBdZV1YHAgcDrkzwZ+Bnwsqran144/D/dqh/ATOCfq2of4MfAyzcw9t3d9R8Bju/a/ha4rLv2fOBJQ1w3B9izqmZV1WzgzKo6H1gOvKqq5lTVA8CHqurAqpoFbA8cVlUXAacB/1hV86vqDfRW9OZX1T8OniTJoiTLkyxff/+6YXxVkiSpda0FuuE6FDgyyUrgGuBx9AJbgPcnWQV8GdiT3nYtwO1VtbI7XgHM2MDY/z5En4OBcwGq6mLgR0NcdxvwlCSnJnkB8JMNjD8/yTVJVgN/AOzzyLf666rq9KqaW1VzJ02dtjGXSpKkRjX1DB1wI3D4MPoFeFNVXfJrjcnRwG7AAVX1UJK1wHbd6QcHdV1Pb3VsKA8O6jPs76+qftQ97/dHwBuAI4DX9NW3HfBhYG5V3ZHkXYPqkyRJGlJrK3SXAVOSLBpoSLJvknl9/S6h97zZtl2fvZPsAEwDftCFufnAXiNU19X0AhpJDgV+q79D90zdNlX1GeAdwP7dqXuBnbrjgfB2d5IdGV54lSRJE1xTK3RVVUleBpyc5O30nolbS++FgcHOoLcdel33jNwP6b0leg7wH9125nLglhEq7d3AJ5P8BfB14Hv0gtpgewJnJhkI0X/d/XsWcFqSB4CDgI/Se+v1e8CyEapPkiSNY6mqsa6heUmmAOur6uEkBwEfqao5Y13XlOkza/pRJ491GcOydvGCsS5BkqStXpIVVTW3v72pFbqt2JOAT3Wrbz8HXj/G9UiSpAnEQDcCqupbwDPHug5JkjQxtfZShCRJkvq4QjeOzd5zGst9Nk2SpHHPFTpJkqTGGegkSZIaZ6CTJElqnIFOkiSpcQY6SZKkxhnoJEmSGmegkyRJapyBTpIkqXEGOkmSpMYZ6CRJkhpnoJMkSWqcgU6SJKlxBjpJkqTGGegkSZIaZ6CTJElqnIFOkiSpcQY6SZKkxk0e6wI0elbfuY4ZJyzdInOtXbxgi8wjSZJ+kyt0kiRJjTPQSZIkNc5AJ0mS1DgDnSRJUuMMdJIkSY3b5ECXZH2SlUnWJPl0kqkb6Pe1TRx/RpJXbmp9IynJe5I8b5TGPm5D311fv3lJbuy+8+2TLOk+LxmNuiRJUjs2Z4XugaqaU1WzgJ8Dbxh8MslkgKp69iaOPwPYYoFuoN6hVNU7q+rLozT1ccCjBjrgVcAHuu/8AWARsG9VvXWU6pIkSY0YqS3Xq4DfSXJIkquSXADcBJDkvu7fc5P88sfKkpyV5PBuJe6qJNd1fwMBcDEwr1uRekuSSd2q1LIkq5Ic019Ekh2SLE1yQ7dyuLBrPyDJV5KsSHJJkuld+xVJTk6yHDgxybeTbDNorDuSbDtQa9d+YJKvdXNcm2SnTa0tyZuBPYDLk1ze9ftIkuXd6tu7u7bXAUcAJyU5p/t+dwRWDNyjJEmauDb7h4W7la0XAhd3TfsDs6rq9r6u59ELJUuTPAb4Q+BYIMDzq+pnSWYCnwTmAicAx1fVYd08i4B1VXVgkinA1Um+2DfPC4C7qmpBd820JNsCpwIvqaofdgHofcBrumseU1Vzu/77A88FLgcOAy6pqoeSDNzrY7r7WFhVy5LsDDwAvHZTaquqdUn+EphfVXd3/U6sqnuSTAIuTbJvVZ2R5GDgwqo6v7v+vqqaM8R/j0X0Vu+YtPNuQ/0nkyRJ48zmrNBtn2QlsBz4L+Bfu/ZrhwhzAF8A5neB54XAld3W4bbAR5OsBj4NPGMD8x0KHNnNeQ3wOGBmX5/VwPOTfDDJvKpaBzwNmAV8qbv2HcATBl1zXt/xwIrXK/rO0Y313apaBlBVP6mqhzejtqEckeQ64Hpgn0f4PoZUVadX1dyqmjtp6rSNuVSSJDVqc1boHuhfIepWsn46VOduBe4K4I/ohaZzu1NvAb4P7EcvYP5sA/MFeFNVXbKhgqrq1m6V7UXAe5NcCnwWuLGqDtrAZYPrvQB4f5LHAgcAl21orpGorare82uDJE8GjgcOrKofJTkL2G6YNUiSpAlqS/9syXnAq4F5/GqLdhq9Va9fAH8BTOra7wV2GnTtJcCx3RYqSfZOssPgwZPsAdxfVWcDS+ht/34T2C3JQV2fbZPsM1RxVXUfsAz4J3rbm+v7unwTmJ7kwG6snbot502trf8+d6YXMNcl2Z3eSqYkSdIj2uxn6DbSF4FPAJ+vqp93bR8GPpPkSHohb2DFbBWwPskNwFn0QtYM4Lr0lgJ/CLy0b/zZwJIkvwAeAo6tqp93LzSckmQavXs+GbhxAzWeR2/r95D+E91YC4FTk2xP7/m55wFnbEptXfvpwMVJ7qqq+UmuB24B7gCu3kCNkiRJv5SqGusaNEqmTJ9Z0486eYvMtXbxgkfvJEmSNkuSFQMvcw7m/ylCkiSpcQY6SZKkxhnoJEmSGrelX4rQFjR7z2ks99k2SZLGPVfoJEmSGmegkyRJapyBTpIkqXEGOkmSpMYZ6CRJkhpnoJMkSWqcgU6SJKlxBjpJkqTGGegkSZIaZ6CTJElqnIFOkiSpcQY6SZKkxhnoJEmSGmegkyRJapyBTpIkqXEGOkmSpMYZ6CRJkho3eawL0OhZfec6ZpywdKOvW7t4wShUI0mSRosrdJIkSY0z0EmSJDXOQCdJktQ4A50kSVLjDHSSJEmNG/VAl+S+0Z6jb74rkswdov2iJLsMrinJjCRrhug7ZPsjzHlWksM3p25JkqRNNWF+tqSqXjTWNQwlyeSqenik+kmSpIlnTLZck8xJ8o0kq5J8NslvJXl8khXd+f2SVJIndZ//M8nUvjEmdStja5KsTvKWvvPbdOff231em2TXzaz79UmWJbkhyWf6anpekuVJbk1yWNd/uyRndvVdn2R+1350kguSXAZcmmSHJB9Lcm3X7yUb6Dc9yZVJVnb3PW9z7keSJI0PY/UM3f8F3l5V+wKrgb+tqh8A2yXZGZgHLAfmJdkL+EFV3d83xhxgz6qaVVWzgTMHnZsMnAN8q6reMYJ1/3tVHVhV+wE3A68ddG4G8CxgAXBaku2A/w+orr4/Az7etQPsDxxeVc8FTgQuq6pnAfOBJUl2GKLfK4FLqmoOsB+wsr/AJIu6YLl8/f3rRvDWJUnS1mqLB7ok04BdquorXdPHged0x18D/kf3+f3dv/OAq4YY6jbgKUlOTfIC4CeDzv0LsKaq3jfC5c9KclWS1cCrgH0GnftUVf2iqr7V1fZ04GDgbICqugX4NrB31/9LVXVPd3wocEKSlcAVwHbAk4botwx4dZJ3AbOr6t7+Aqvq9KqaW1VzJ02dNiI3LUmStm5b21uuV9ILcHsBn6e3CnUwcFW3xbqy+3tPVf2oO38F8AbgjEHjfA2YP2g1bKScBfzPbsXt3fSC14Dq69v/ud9PBx0HeHlVzen+nlRVN/f3q6or6YXcO4Gzkhy5CfcgSZLGmS0e6KpqHfCjQc9//QUwsFp3FfDn9LZKfwHcA7wI+GpVrR8UeN7ZPQ+3TVV9BngHva3JAf8KXAR8KslIvvixE/DdJNvSW6Eb7E+75/aeCjwF+GZ3P68CSLI3vVW3bw4x7iXAm5Kk6/vMoSbvtp+/X1UfpRdg9x+qnyRJmli2xFuuU5N8Z9DnfwCOovec2VR625OvBqiqtV2oubLr+1XgCd1qXL89gTOTDITSvx58sqr+odve/USS/vA1HE/rq/stwP8GrgF+2P2706Dz/wVcC+wMvKGqfpbkw8BHui3ah4Gjq+rBLrcNdhJwMrCqu5/bgcOGqOkQ4K1JHgLuA1yhkyRJpOrRdgbVqinTZ9b0o07e6OvWLl4wCtVIkqTNlWRFVf3G7+1ubc/QSZIkaSMZ6CRJkhpnoJMkSWqcgU6SJKlxE+b/5ToRzd5zGst9wUGSpHHPFTpJkqTGGegkSZIaZ6CTJElqnIFOkiSpcQY6SZKkxhnoJEmSGmegkyRJapyBTpIkqXEGOkmSpMYZ6CRJkhpnoJMkSWqcgU6SJKlxBjpJkqTGGegkSZIaZ6DT/9/evUf7VdZ3Hn9/GiBcggEUmRioUYgXrgGCIyhWRPESFLrEeq2gtlRLa4Fqi0tLq6VDlFpQqZeIFWeJgqJOGZhyszhFbpJAIFxEUDKDgCIypiA3Cd/5Yz8HfxxyknNITg77nPdrrbPO3s9+9vN79pf1y/rw7L0TSZLUcwY6SZKknjPQSZIk9dwGEz0BjZ9lt69gzjHnjPm85QsXjMNsJEnSeHGFTpIkqecMdJIkST1noJMkSeo5A50kSVLPrTbQJTkxyZED++clOWVg/5NJjl7N+R9L8sq2fWSSTdfFpNt4Gya5KsmcJNetq3HXpzb3t42y7wlJrm+/t05yRZKrk+w73vOUJElPbWtaobsE2Acgye8AzwB2Gji+D3DpSCdX1bFVdWHbPRIYU6BLMm01h1/a5rdWkkzkm75zgFEFOuBwYNeq+iCwP7CsqnavqovHa3KSJKkf1hToLgX2bts7AdcB9ybZMsl04IXAVUmOTXJlkuuSLEoSgCSnJjkkyfuBZwEXJbmoHTsgyWVtle2bSWa09uVJPp7kKuBNSd6f5IYk1yY5fWBurwH+rW1vkOS0JDcmOXNoJXA18/pekpOSLAb+ou2fmGRxG2OvJN9OcnOS44Y+MMk7kvwgydIkXxgKnEnuS/IPSa5JcnmSbYYXMsnvtfOWtpW1zYGFwL6t7ai2Yndxq8lVSYbC9FnADGBJkr8GPgEc1M7bZE3/kSVJ0uS22kBXVXcAjyT5XbrVuMuAK+hC3ny6VaKHgZOraq+q2hnYBDhw2DifBu4A9quq/ZI8A/gI8Mqq2gNYDAzeuv1lVe1RVacDxwC7V9WuwHsH+uwHfK9tPx/4bFW9EPhP4E9b++rmtVFVza+qT7b9h6tqPvB54F+BI4CdgcOSPD3JC4E3Ay+pqnnASuDt7dzNgMurajfgP4A/XkU5PwAc0c7dF3igXdvFVTWvqk4E7gJe1WryZuDTrX5vAB5o/T4OHAuc0fYfWMVnSZKkKWQ0L0VcShfmhgLdZQP7Q7c892vPdC0DXsHjb8uuyouBHYFLkiwFDgWePXD8jIHta4HTkrwDeAQgyWzgnqq6v/W5raqG5vJVutuxa5rX4GcAnNV+LwOur6o7q+oh4CfAdnS3OfcErmxz3h94bjvnYeDstr2E7lbqcJcA/9RWK7eoqkdW0WdD4Ittvt+kq9GYJDm8rTQuXnn/irGeLkmSemg0z48NPUe3C90t19uAv6RbCftyko2BzwLzq+q2JH8HbLyGMQNcUFVvHeH4rwe2FwAvA14PfDjJLnS3W88b6FPDzq9RzOvXw855qP1+dGB7aH+DNuevVNWHVjHf31TV0BxWsoq6VtXCJOcAr6MLsq9exThHAT8HdqML2w+uos9qVdUiYBHA9Flzh9dFkiRNQqNdoTuQbkVsZVXdA2xBd9v1Un4bku5uz8EdMsI49wKbt+3LgZck2QEgyWZJnjf8hPYixnZVdRHw18BMumfJBp+fA/jdJEPP+r0N+P4Y5jVa3wUOSfLMNretkjx7Dec8Jsn2VbWs3TK9EngBj68JdNd3Z1U9CvwhsLqXQiRJkoDRrdAto3u79WvD2mZU1d0ASb5It3r3M7qwsiqLgHOT3NGeozsM+Hp7uQK6Z+p+NOycacBXk8ykWyH7NF0I2qGqfjjQ7ybgiCT/AtwAfK6q7h/lvEalqm5I8hHg/BY0f0P3nN3/GeUQRybZj27F73q6QPoosDLJNcCpdCuK30ryTuBcnriKKEmS9AT57Z3CfkjyUuAdVfXeNXae4qbPmluzDj1pzOctX7hgHGYjSZLWVpIl7SXOx5nIv4PtSamq79PdUpUkSRL+01+SJEm9Z6CTJEnqOQOdJElSz/XuGTqN3i6zZ7LYFxwkSZr0XKGTJEnqOQOdJElSzxnoJEmSes5AJ0mS1HMGOkmSpJ4z0EmSJPWcgU6SJKnnDHSSJEk9Z6CTJEnqOQOdJElSzxnoJEmSes5AJ0mS1HMGOkmSpJ4z0EmSJPWcgU6SJKnnDHSSJEk9Z6CTJEnquQ0megIaP8tuX8GcY84Zdf/lCxeM42wkSdJ4cYVOkiSp5wx0kiRJPWegkyRJ6jkDnSRJUs8Z6CRJknpuygS6JB9Ocn2Sa5MsTfJfx+lz5iR525M899J1PR9JkjT5TYm/tiTJ3sCBwB5V9VCSZwAbrcV4G1TVIyMcngO8DfjaWMerqn2e7JwkSdLUNVVW6GYBd1fVQwBVdXdV3ZFkzyT/O8mSJOclmQWQZIckFya5JslVSbZP8vIkFyc5C7ghybQkJyS5sq36/Un7rIXAvm0V8Ki2YndxG+eqJPu0z3jceK3tvqEJJ/ngwNgfbW2bJTmnzeu6JG9ebxWUJElPWVNihQ44Hzg2yY+AC4EzgEuBzwAHVdUvWjj6B+DdwGnAwqr6TpKN6YLvdsAewM5VdWuSw4EVVbVXkunAJUnOB44BPlBVBwIk2RR4VVU9mGQu8HVgfpvXY+MNTjbJAcBc4EVAgLOSvAzYGrijqha0fjOHX2ib1+EA05629dpXTpIkPeVNiUBXVfcl2RPYF9iPLtAdB+wMXJAEYBpwZ5LNgdlV9Z127oMArc8PBsLXAcCuSQ5p+zPpQtjDwz5+Q+DkJPOAlcDzBo79YHiYGxj7AODqtj+jjX0x8MkkHwfOrqqLV3Gti4BFANNnza01lEaSJE0CUyLQAVTVSuB7wPeSLAOOAK6vqr0H+7VAN5JfD3YF/ryqzht2/suHnXMU8HNgN7qVvgdHGO9xwwDHV9UXnnAg2QN4HXBcku9W1cdWM19JkjQFTIln6JI8v93uHDIPuBHYur0wQZINk+xUVfcCP01ycGuf3m6bDnce8L4kG7Z+z0uyGXAvMBgKZwJ3VtWjwB/SrQSuyXnAu5PMaGPPTvLMJM8C7q+qrwIn0N2ylSRJU9xUWaGbAXwmyRbAI8AtdM+ZLQI+3Z5F2wA4CbieLnh9IcnHgN8Ab1rFmKfQvdF6Vbr7sb8ADgauBVYmuQY4Ffgs8K0k7wTOZeRVucdU1flJXghc1m713ge8A9gBOCHJo21e7xtzJSRJ0qSTKh+zmqymz5pbsw49adT9ly9cMI6zkSRJayvJkqqaP7x9StxylSRJmswMdJIkST1noJMkSeq5qfJSxJS0y+yZLPa5OEmSJj1X6CRJknrOQCdJktRzBjpJkqSeM9BJkiT1nIFOkiSp5wx0kiRJPWegkyRJ6jkDnSRJUs8Z6CRJknrOQCdJktRzBjpJkqSeM9BJkiT1nIFOkiSp5wx0kiRJPWegkyRJ6jkDnSRJUs8Z6CRJknpug4megMbPsttXMOeYc1Z5bPnCBet5NpIkaby4QidJktRzBjpJkqSeM9BJkiT1nIFOkiSp5wx0kiRJPWegG4Uk9w3bPyzJyW3775LcnmRpkhuSvHUM485L8rpR9v16kmuTHJXkBe3zrk6y/diuRpIkTTYGunXjxKqaBxwEfCHJhqM8bx6wxkCX5L8Ae1XVrlV1InAwcGZV7V5VP37Ss5YkSZOCfw/dOlRVNye5H9gSuGvwWJI3AX8LrARWAK8EPgZskuSlwPHArcCngI2BB4B3VdVNwPnA7CRLge8A7wNWJtm/qvZbLxcnSZKesgx0o7NJC1NDtgLOGt4pyR7AzVV11/BjwLHAq6vq9iRbVNXDSY4F5lfVn7XznwbsW1WPJHkl8N+ANwJvAM5uq4AkCXBfVf3jKuZwOHA4wLSnbb0WlyxJkvrCQDc6DwyFKeieoQPmDxw/Ksm7gOcBrx9hjEuAU5N8A/j2CH1mAl9JMhcoYLS3bh9TVYuARQDTZ82tsZ4vSZL6x2fo1o0Tq2onutW0LyXZeHiHqnov8BFgO2BJkqevYpy/By6qqp3pguETxpEkSRrOQLcOVdVZwGLg0OHHkmxfVVdU1bHAL+iC3b3A5gPdZgK3t+3Dxne2kiRpsjDQrXsfA45OMry2JyRZluQ64FLgGuAiYMf2V5C8GfgEcHySq/F2uCRJGqVU+ZjVZDV91tyadehJqzy2fOGC9TwbSZK0tpIsqar5w9tdoZMkSeo5A50kSVLPGegkSZJ6zgfvJ7FdZs9ksc/KSZI06blCJ0mS1HMGOkmSpJ4z0EmSJPWcgU6SJKnnDHSSJEk9Z6CTJEnqOQOdJElSzxnoJEmSes5AJ0mS1HMGOkmSpJ4z0EmSJPWcgU6SJKnnDHSSJEk9Z6CTJEnqOQOdJElSzxnoJEmSes5AJ0mS1HMbTPQENH6W3b6COcec84T25QsXTMBsJEnSeHGFTpIkqecMdJIkST1noJMkSeo5A50kSVLPGegkSZJ6rpeBLsnKJEuTXJfkfybZ4kmOc1iSk9v2wUl2XLczXXttjs+a6HlIkqSnrl4GOuCBqppXVTsD9wBHrIMxDwaecoEOOAww0EmSpBH1NdANugyYDZBk+yTnJlmS5OIkL2jtr09yRZKrk1yYZJvBAZLsA7wBOKGt/G2f5KqB43MH9wfa/zjJlUmuSfKtJJsOzOPyJMuSHJfkvoFzPtjOuTbJR1vbnCQ3JvlikuuTnJ9kkySHAPOB09q8NkmyMMkN7fx/XOfVlCRJvdPrQJdkGrA/cFZrWgT8eVXtCXwA+Gxr/z7w4qraHTgd+KvBcarq0jbGB9vK34+BFUnmtS7vAr68iil8u6r2qqrdgBuB97T2edvHTQAACkVJREFUTwGfqqpdgJ8OzPcAYC7wImAesGeSl7XDc4F/rqqdgF8Bb6yqM4HFwNurah6wKfD7wE5VtStw3CpqcniSxUkWr7x/xWrrJ0mSJoe+/ksRmyRZSrcydyNwQZIZwD7AN5MM9Zvefm8LnJFkFrARcOsoPuMU4F1JjgbeTBfChts5yXHAFsAM4LzWvjfdLVyArwFDK2kHtJ+r2/4MuiD3f4Fbq2ppa18CzFnF560AHgS+lORs4OzhHapqEV2wZfqsuTWK65QkST3X1xW6B9qK1bOB0D1D9zvAr9oK29DPC1v/zwAntxWzPwE2HsVnfAt4LXAgsKSqfrmKPqcCf9bG/egoxg1w/MD8dqiqL7VjDw30W8kqwnZVPUIXLM9s8zp3FNchSZImub4GOgCq6n7g/cBfAvcDtyZ5E0A6u7WuM4Hb2/ahIwx3L7D5wNgP0q24fY5V326l9b8zyYbA2wfaLwfe2LbfMtB+HvDutppIktlJnrmGy3xsXu28mVX1v4CjgN1Wd6IkSZoaeh3oAKrqauBa4K10oeo9Sa4BrgcOat3+ju5W7BLg7hGGOh34YHtxYvvWdhrwKHD+COf8DXAFcAnww4H2I4Gjk1wL7EB3q5SqOp/uFuxlSZbRrbRtzuqdCny+3WLeHDi7jft94Og1nCtJkqaAVPmY1UiSfIBuRexvxnjepnS3hSvJW4C3VtVBazpvXZs+a27NOvSkJ7QvX7hgfU9FkiStA0mWVNX84e19fSli3CX5DrA98IoncfqewMnp3s74FfDudTk3SZKkQQa6EVTV76/FuRfj822SJGk96f0zdJIkSVOdgU6SJKnnvOU6ie0yeyaLfQFCkqRJzxU6SZKknjPQSZIk9ZyBTpIkqecMdJIkST1noJMkSeo5A50kSVLPGegkSZJ6zkAnSZLUcwY6SZKknjPQSZIk9ZyBTpIkqecMdJIkST1noJMkSeo5A50kSVLPGegkSZJ6zkAnSZLUcwY6SZKknttgoieg8bPs9hXMOeacx7UtX7hggmYjSZLGiyt0kiRJPWegkyRJ6jkDnSRJUs8Z6CRJknrOQLcWktyXZJckS9vPPUlubdsXjnKMI5NsOop++ya5vo29SZIT2v4Ja38lkiSpz3zLdS1V1TJgHkCSU4Gzq+rMMQxxJPBV4P419Hs7cHxVfbV91uHAVlW1csyTliRJk4qBbj1JshnwDWBbYBrw98A2wLOAi5LcXVX7JfkcsBewCXBmVf1tkj8C/gB4dZLXApsDM4AlSY6vqjMm4JIkSdJThIFu/XkNcEdVLQBIMrOqViQ5Gtivqu5u/T5cVfckmQZ8N8muVXVKkpcysPqX5L6qmjchVyJJkp5SfIZu/VkGvCrJx5PsW1UrRuj3B0muAq4GdgJ2HMuHJDk8yeIki1feP9JHSJKkycRAt55U1Y+APeiC3XFJjh3eJ8lzgA8A+1fVrsA5wMZj/JxFVTW/quZP23TmOpi5JEl6qjPQrSdJngXc315qOIEu3AHcS/dMHMDTgF8DK5JsA7x2vU9UkiT1js/QrT+7ACckeRT4DfC+1r4IODfJHe2liKuBHwK3AZdMzFQlSVKfpKomeg4aJ9Nnza1Zh570uLblCxdM0GwkSdLaSrKkquYPb/eWqyRJUs8Z6CRJknrOQCdJktRzBjpJkqSe8y3XSWyX2TNZ7EsQkiRNeq7QSZIk9ZyBTpIkqecMdJIkST1noJMkSeo5A50kSVLPGegkSZJ6zkAnSZLUcwY6SZKknktVTfQcNE6S3AvcNNHz6JlnAHdP9CR6xpqNnTUbO2s2dtZs7PpQs2dX1dbDG/2XIia3m6pq/kRPok+SLLZmY2PNxs6ajZ01GztrNnZ9rpm3XCVJknrOQCdJktRzBrrJbdFET6CHrNnYWbOxs2ZjZ83GzpqNXW9r5ksRkiRJPecKnSRJUs8Z6CRJknrOQDdJJXlNkpuS3JLkmImez0RK8i9J7kpy3UDbVkkuSHJz+71la0+ST7e6XZtkj4FzDm39b05y6ERcy/qSZLskFyW5Icn1Sf6itVu3ESTZOMkPklzTavbR1v6cJFe02pyRZKPWPr3t39KOzxkY60Ot/aYkr56YK1o/kkxLcnWSs9u+9VqDJMuTLEuyNMni1uZ3czWSbJHkzCQ/THJjkr0nXc2qyp9J9gNMA34MPBfYCLgG2HGi5zWB9XgZsAdw3UDbJ4Bj2vYxwMfb9uuAfwMCvBi4orVvBfyk/d6ybW850dc2jjWbBezRtjcHfgTsaN1WW7MAM9r2hsAVrRbfAN7S2j8PvK9t/ynw+bb9FuCMtr1j+85OB57TvsvTJvr6xrFuRwNfA85u+9ZrzTVbDjxjWJvfzdXX7CvAH7XtjYAtJlvNXKGbnF4E3FJVP6mqh4HTgYMmeE4Tpqr+A7hnWPNBdF9w2u+DB9r/e3UuB7ZIMgt4NXBBVd1TVf8PuAB4zfjPfmJU1Z1VdVXbvhe4EZiNdRtRu/b72u6G7aeAVwBntvbhNRuq5ZnA/knS2k+vqoeq6lbgFrrv9KSTZFtgAXBK2w/W68nyuzmCJDPp/sf+SwBV9XBV/YpJVjMD3eQ0G7htYP+nrU2/tU1V3dm2fwZs07ZHqt2UrWm7tbU73YqTdVuNdvtwKXAX3R/2PwZ+VVWPtC6D1/9YbdrxFcDTmVo1Own4K+DRtv90rNdoFHB+kiVJDm9tfjdH9hzgF8CX2+39U5JsxiSrmYFOU151a+n+/T2rkGQG8C3gyKr6z8Fj1u2JqmplVc0DtqVbJXrBBE/pKSvJgcBdVbVkoufSQy+tqj2A1wJHJHnZ4EG/m0+wAd1jN5+rqt2BX9PdYn3MZKiZgW5yuh3YbmB/29am3/p5W0Kn/b6rtY9UuylX0yQb0oW506rq263Zuo1Cu51zEbA33e2aoX83e/D6H6tNOz4T+CVTp2YvAd6QZDndYyGvAD6F9Vqjqrq9/b4L+A7d/zz43RzZT4GfVtUVbf9MuoA3qWpmoJucrgTmtrfFNqJ7gPisCZ7TU81ZwNAbSocC/zrQ/s72ltOLgRVtSf484IAkW7Y3oQ5obZNSezbpS8CNVfVPA4es2wiSbJ1ki7a9CfAqumcPLwIOad2G12yolocA/95WCc4C3tLe6nwOMBf4wfq5ivWnqj5UVdtW1Ry6P6P+varejvVarSSbJdl8aJvuO3UdfjdHVFU/A25L8vzWtD9wA5OtZhP9VoY/4/ND95bOj+ie4fnwRM9ngmvxdeBO4Dd0/6f2Hrpnb74L3AxcCGzV+gb451a3ZcD8gXHeTffA9S3Auyb6usa5Zi+lu/1wLbC0/bzOuq22ZrsCV7eaXQcc29qfSxcwbgG+CUxv7Ru3/Vva8ecOjPXhVsubgNdO9LWth9q9nN++5Wq9Vl+r59K91XsNcP3Qn+9+N9dYt3nA4vb9/B90b6lOqpr5T39JkiT1nLdcJUmSes5AJ0mS1HMGOkmSpJ4z0EmSJPWcgU6SJKnnDHSSJEk9Z6CTJEnquf8PK8BGMlQrXnwAAAAASUVORK5CYII=\n",
            "text/plain": [
              "<Figure size 648x864 with 1 Axes>"
            ]
          },
          "metadata": {
            "needs_background": "light"
          }
        }
      ]
    },
    {
      "cell_type": "code",
      "metadata": {
        "colab": {
          "base_uri": "https://localhost:8080/"
        },
        "id": "Guf309woYZu5",
        "outputId": "c83c39bf-4a45-40b4-cabc-7e0adbb063c6"
      },
      "source": [
        "PNoLoan = (df4.loc[df4['STATUS'] == 'X'].shape[0]/df4.shape[0]) * 100\n",
        "print(str(round(PNoLoan, 2)) + \"% of people have no loans.\")"
      ],
      "execution_count": null,
      "outputs": [
        {
          "output_type": "stream",
          "name": "stdout",
          "text": [
            "26.65% of people have no loans.\n"
          ]
        }
      ]
    },
    {
      "cell_type": "code",
      "metadata": {
        "colab": {
          "base_uri": "https://localhost:8080/"
        },
        "id": "6EekvRreYeR6",
        "outputId": "b4dc7a2e-37c0-4867-e114-d4248f378d79"
      },
      "source": [
        "PPaidOf = (df4.loc[df4['STATUS'] == 'C'].shape[0]/df4.shape[0]) * 100\n",
        "print(str(round(PPaidOf, 2)) + \"% of customers have paid off there dues.\")"
      ],
      "execution_count": null,
      "outputs": [
        {
          "output_type": "stream",
          "name": "stdout",
          "text": [
            "49.01% of customers have paid off there dues.\n"
          ]
        }
      ]
    },
    {
      "cell_type": "code",
      "metadata": {
        "id": "mT7WCzqTYi8m"
      },
      "source": [
        "defaulters= ['0','1','2','3','4','5']"
      ],
      "execution_count": null,
      "outputs": []
    },
    {
      "cell_type": "code",
      "metadata": {
        "colab": {
          "base_uri": "https://localhost:8080/",
          "height": 309
        },
        "id": "qs1jG4oxYv_Q",
        "outputId": "df924fbb-d63f-4f4d-ce9a-fdf54cdd5d61"
      },
      "source": [
        "df4['OverDues'] = np.where(df4.STATUS.isin(defaulters), 1, 0)\n",
        "df4.head()"
      ],
      "execution_count": null,
      "outputs": [
        {
          "output_type": "execute_result",
          "data": {
            "text/html": [
              "<div>\n",
              "<style scoped>\n",
              "    .dataframe tbody tr th:only-of-type {\n",
              "        vertical-align: middle;\n",
              "    }\n",
              "\n",
              "    .dataframe tbody tr th {\n",
              "        vertical-align: top;\n",
              "    }\n",
              "\n",
              "    .dataframe thead th {\n",
              "        text-align: right;\n",
              "    }\n",
              "</style>\n",
              "<table border=\"1\" class=\"dataframe\">\n",
              "  <thead>\n",
              "    <tr style=\"text-align: right;\">\n",
              "      <th></th>\n",
              "      <th>ID</th>\n",
              "      <th>CODE_GENDER</th>\n",
              "      <th>FLAG_OWN_CAR</th>\n",
              "      <th>FLAG_OWN_REALTY</th>\n",
              "      <th>CNT_CHILDREN</th>\n",
              "      <th>AMT_INCOME_TOTAL</th>\n",
              "      <th>NAME_INCOME_TYPE</th>\n",
              "      <th>NAME_EDUCATION_TYPE</th>\n",
              "      <th>NAME_FAMILY_STATUS</th>\n",
              "      <th>NAME_HOUSING_TYPE</th>\n",
              "      <th>DAYS_BIRTH</th>\n",
              "      <th>DAYS_EMPLOYED</th>\n",
              "      <th>FLAG_MOBIL</th>\n",
              "      <th>FLAG_WORK_PHONE</th>\n",
              "      <th>FLAG_PHONE</th>\n",
              "      <th>FLAG_EMAIL</th>\n",
              "      <th>OCCUPATION_TYPE</th>\n",
              "      <th>CNT_FAM_MEMBERS</th>\n",
              "      <th>MONTHS_BALANCE</th>\n",
              "      <th>STATUS</th>\n",
              "      <th>Age</th>\n",
              "      <th>Employed</th>\n",
              "      <th>OverDues</th>\n",
              "    </tr>\n",
              "  </thead>\n",
              "  <tbody>\n",
              "    <tr>\n",
              "      <th>31</th>\n",
              "      <td>5008806.0</td>\n",
              "      <td>M</td>\n",
              "      <td>Y</td>\n",
              "      <td>Y</td>\n",
              "      <td>0.0</td>\n",
              "      <td>112500.0</td>\n",
              "      <td>Working</td>\n",
              "      <td>Secondary / secondary special</td>\n",
              "      <td>Married</td>\n",
              "      <td>House / apartment</td>\n",
              "      <td>-21474.0</td>\n",
              "      <td>-1134.0</td>\n",
              "      <td>1.0</td>\n",
              "      <td>0.0</td>\n",
              "      <td>0.0</td>\n",
              "      <td>0.0</td>\n",
              "      <td>Security staff</td>\n",
              "      <td>2.0</td>\n",
              "      <td>0.0</td>\n",
              "      <td>C</td>\n",
              "      <td>58.0</td>\n",
              "      <td>3.0</td>\n",
              "      <td>0</td>\n",
              "    </tr>\n",
              "    <tr>\n",
              "      <th>61</th>\n",
              "      <td>5008808.0</td>\n",
              "      <td>F</td>\n",
              "      <td>N</td>\n",
              "      <td>Y</td>\n",
              "      <td>0.0</td>\n",
              "      <td>270000.0</td>\n",
              "      <td>Commercial associate</td>\n",
              "      <td>Secondary / secondary special</td>\n",
              "      <td>Single / not married</td>\n",
              "      <td>House / apartment</td>\n",
              "      <td>-19110.0</td>\n",
              "      <td>-3051.0</td>\n",
              "      <td>1.0</td>\n",
              "      <td>0.0</td>\n",
              "      <td>1.0</td>\n",
              "      <td>1.0</td>\n",
              "      <td>Sales staff</td>\n",
              "      <td>1.0</td>\n",
              "      <td>0.0</td>\n",
              "      <td>0</td>\n",
              "      <td>52.0</td>\n",
              "      <td>8.0</td>\n",
              "      <td>1</td>\n",
              "    </tr>\n",
              "    <tr>\n",
              "      <th>66</th>\n",
              "      <td>5008809.0</td>\n",
              "      <td>F</td>\n",
              "      <td>N</td>\n",
              "      <td>Y</td>\n",
              "      <td>0.0</td>\n",
              "      <td>270000.0</td>\n",
              "      <td>Commercial associate</td>\n",
              "      <td>Secondary / secondary special</td>\n",
              "      <td>Single / not married</td>\n",
              "      <td>House / apartment</td>\n",
              "      <td>-19110.0</td>\n",
              "      <td>-3051.0</td>\n",
              "      <td>1.0</td>\n",
              "      <td>0.0</td>\n",
              "      <td>1.0</td>\n",
              "      <td>1.0</td>\n",
              "      <td>Sales staff</td>\n",
              "      <td>1.0</td>\n",
              "      <td>-22.0</td>\n",
              "      <td>X</td>\n",
              "      <td>52.0</td>\n",
              "      <td>8.0</td>\n",
              "      <td>0</td>\n",
              "    </tr>\n",
              "    <tr>\n",
              "      <th>71</th>\n",
              "      <td>5008810.0</td>\n",
              "      <td>F</td>\n",
              "      <td>N</td>\n",
              "      <td>Y</td>\n",
              "      <td>0.0</td>\n",
              "      <td>270000.0</td>\n",
              "      <td>Commercial associate</td>\n",
              "      <td>Secondary / secondary special</td>\n",
              "      <td>Single / not married</td>\n",
              "      <td>House / apartment</td>\n",
              "      <td>-19110.0</td>\n",
              "      <td>-3051.0</td>\n",
              "      <td>1.0</td>\n",
              "      <td>0.0</td>\n",
              "      <td>1.0</td>\n",
              "      <td>1.0</td>\n",
              "      <td>Sales staff</td>\n",
              "      <td>1.0</td>\n",
              "      <td>0.0</td>\n",
              "      <td>C</td>\n",
              "      <td>52.0</td>\n",
              "      <td>8.0</td>\n",
              "      <td>0</td>\n",
              "    </tr>\n",
              "    <tr>\n",
              "      <th>98</th>\n",
              "      <td>5008811.0</td>\n",
              "      <td>F</td>\n",
              "      <td>N</td>\n",
              "      <td>Y</td>\n",
              "      <td>0.0</td>\n",
              "      <td>270000.0</td>\n",
              "      <td>Commercial associate</td>\n",
              "      <td>Secondary / secondary special</td>\n",
              "      <td>Single / not married</td>\n",
              "      <td>House / apartment</td>\n",
              "      <td>-19110.0</td>\n",
              "      <td>-3051.0</td>\n",
              "      <td>1.0</td>\n",
              "      <td>0.0</td>\n",
              "      <td>1.0</td>\n",
              "      <td>1.0</td>\n",
              "      <td>Sales staff</td>\n",
              "      <td>1.0</td>\n",
              "      <td>0.0</td>\n",
              "      <td>C</td>\n",
              "      <td>52.0</td>\n",
              "      <td>8.0</td>\n",
              "      <td>0</td>\n",
              "    </tr>\n",
              "  </tbody>\n",
              "</table>\n",
              "</div>"
            ],
            "text/plain": [
              "           ID CODE_GENDER FLAG_OWN_CAR  ...   Age  Employed  OverDues\n",
              "31  5008806.0           M            Y  ...  58.0       3.0         0\n",
              "61  5008808.0           F            N  ...  52.0       8.0         1\n",
              "66  5008809.0           F            N  ...  52.0       8.0         0\n",
              "71  5008810.0           F            N  ...  52.0       8.0         0\n",
              "98  5008811.0           F            N  ...  52.0       8.0         0\n",
              "\n",
              "[5 rows x 23 columns]"
            ]
          },
          "metadata": {},
          "execution_count": 36
        }
      ]
    },
    {
      "cell_type": "code",
      "metadata": {
        "colab": {
          "base_uri": "https://localhost:8080/"
        },
        "id": "fAiYQe6pYxMP",
        "outputId": "3c8bd233-f72a-4b4e-f7bd-a54b3240c644"
      },
      "source": [
        "df4.groupby('OCCUPATION_TYPE')"
      ],
      "execution_count": null,
      "outputs": [
        {
          "output_type": "execute_result",
          "data": {
            "text/plain": [
              "<pandas.core.groupby.generic.DataFrameGroupBy object at 0x7efff8631750>"
            ]
          },
          "metadata": {},
          "execution_count": 37
        }
      ]
    },
    {
      "cell_type": "code",
      "metadata": {
        "colab": {
          "base_uri": "https://localhost:8080/",
          "height": 421
        },
        "id": "S7xMlHBbY1yf",
        "outputId": "8273561c-8b7b-4f4d-db59-ad91773bc80e"
      },
      "source": [
        "plt.figure(figsize=(10,6))\n",
        "df4[df4['OverDues']==1]['AMT_INCOME_TOTAL'].hist(alpha=0.7,color='Red', bins=6,label='Defaulters')\n",
        "df4[df4['OverDues']==0]['AMT_INCOME_TOTAL'].hist(alpha=0.3,color='Blue', bins=6,label='PaidOff')\n",
        "                                                    \n",
        "plt.title('Customers around the income groups')                                                    \n",
        "plt.legend()\n",
        "plt.xlabel('Annual Income')\n",
        "plt.ylabel('Number of Customers')"
      ],
      "execution_count": null,
      "outputs": [
        {
          "output_type": "execute_result",
          "data": {
            "text/plain": [
              "Text(0, 0.5, 'Number of Customers')"
            ]
          },
          "metadata": {},
          "execution_count": 38
        },
        {
          "output_type": "display_data",
          "data": {
            "image/png": "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\n",
            "text/plain": [
              "<Figure size 720x432 with 1 Axes>"
            ]
          },
          "metadata": {
            "needs_background": "light"
          }
        }
      ]
    },
    {
      "cell_type": "code",
      "metadata": {
        "colab": {
          "base_uri": "https://localhost:8080/"
        },
        "id": "cGOoSSCFZBy5",
        "outputId": "1e34ff45-7862-4022-bcb6-c0aabc8d0b97"
      },
      "source": [
        "df4['OverDues'].value_counts()"
      ],
      "execution_count": null,
      "outputs": [
        {
          "output_type": "execute_result",
          "data": {
            "text/plain": [
              "0    19018\n",
              "1     6116\n",
              "Name: OverDues, dtype: int64"
            ]
          },
          "metadata": {},
          "execution_count": 39
        }
      ]
    },
    {
      "cell_type": "code",
      "metadata": {
        "colab": {
          "base_uri": "https://localhost:8080/",
          "height": 372
        },
        "id": "F5dtL5CaZKrx",
        "outputId": "5b33bd18-aa0d-4491-e7a8-58a200cb1160"
      },
      "source": [
        "pd.crosstab(df4.CODE_GENDER,df4.OverDues).plot(kind='bar')\n",
        "plt.title('Gender vs Defaulters')\n",
        "plt.xlabel('Gender')\n",
        "plt.ylabel('Number of Customers')\n",
        "plt.legend(labels = [\"PaidOff\", \"Defaulters\"])\n",
        "plt.xticks(np.linspace(0, 1, 2), ['Female','Male'])"
      ],
      "execution_count": null,
      "outputs": [
        {
          "output_type": "execute_result",
          "data": {
            "text/plain": [
              "([<matplotlib.axis.XTick at 0x7efff85e06d0>,\n",
              "  <matplotlib.axis.XTick at 0x7efff85e0750>],\n",
              " [Text(0, 0, 'Female'), Text(0, 0, 'Male')])"
            ]
          },
          "metadata": {},
          "execution_count": 40
        },
        {
          "output_type": "display_data",
          "data": {
            "image/png": "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\n",
            "text/plain": [
              "<Figure size 432x288 with 1 Axes>"
            ]
          },
          "metadata": {
            "needs_background": "light"
          }
        }
      ]
    },
    {
      "cell_type": "code",
      "metadata": {
        "colab": {
          "base_uri": "https://localhost:8080/",
          "height": 521
        },
        "id": "noa1gsd1ZNXf",
        "outputId": "31ac3304-3521-448b-f1ab-e7c5bdeae7ce"
      },
      "source": [
        "pd.crosstab(df4.NAME_INCOME_TYPE, df4.OverDues).plot(kind='bar', figsize=(12,6))\n",
        "plt.title('Customers across various Income Types')\n",
        "plt.xlabel('Income Type')\n",
        "plt.ylabel('Number of Customers')\n",
        "plt.legend(labels = [\"PaidOff\", \"Defaulters\"])"
      ],
      "execution_count": null,
      "outputs": [
        {
          "output_type": "execute_result",
          "data": {
            "text/plain": [
              "<matplotlib.legend.Legend at 0x7efff8504ed0>"
            ]
          },
          "metadata": {},
          "execution_count": 41
        },
        {
          "output_type": "display_data",
          "data": {
            "image/png": "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\n",
            "text/plain": [
              "<Figure size 864x432 with 1 Axes>"
            ]
          },
          "metadata": {
            "needs_background": "light"
          }
        }
      ]
    },
    {
      "cell_type": "code",
      "metadata": {
        "id": "NZLh7FxrZTiN"
      },
      "source": [
        "df7 = pd.get_dummies(df3, columns=['CODE_GENDER','FLAG_OWN_CAR','FLAG_OWN_REALTY','NAME_INCOME_TYPE','NAME_EDUCATION_TYPE','NAME_FAMILY_STATUS','NAME_HOUSING_TYPE'], drop_first = False)\n",
        "df7['OverDues'] = np.where(df7.STATUS.isin(defaulters), 1, 0)"
      ],
      "execution_count": null,
      "outputs": []
    },
    {
      "cell_type": "code",
      "metadata": {
        "colab": {
          "base_uri": "https://localhost:8080/",
          "height": 705
        },
        "id": "CUq4LRYyZqoU",
        "outputId": "3726ab73-260e-4542-e96f-097d5a06d0dd"
      },
      "source": [
        "plt.figure(figsize=(12,10))\n",
        "\n",
        "corr = df7[['OverDues', 'DAYS_BIRTH', 'DAYS_EMPLOYED', 'AMT_INCOME_TOTAL', 'FLAG_PHONE', 'CNT_FAM_MEMBERS']].corr()\n",
        "sns.heatmap(corr, \n",
        "        xticklabels=corr.columns,\n",
        "        yticklabels=corr.columns,\n",
        "        annot=True, cmap=plt.cm.Reds)"
      ],
      "execution_count": null,
      "outputs": [
        {
          "output_type": "execute_result",
          "data": {
            "text/plain": [
              "<matplotlib.axes._subplots.AxesSubplot at 0x7efff84f9590>"
            ]
          },
          "metadata": {},
          "execution_count": 43
        },
        {
          "output_type": "display_data",
          "data": {
            "image/png": "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\n",
            "text/plain": [
              "<Figure size 864x720 with 2 Axes>"
            ]
          },
          "metadata": {
            "needs_background": "light"
          }
        }
      ]
    },
    {
      "cell_type": "code",
      "metadata": {
        "id": "T_sNmRsXaGdU"
      },
      "source": [
        "df5 = df4.copy()"
      ],
      "execution_count": null,
      "outputs": []
    },
    {
      "cell_type": "code",
      "metadata": {
        "colab": {
          "base_uri": "https://localhost:8080/",
          "height": 241
        },
        "id": "J9SvixX-aKoi",
        "outputId": "a766d67f-1b85-4c1f-b50b-2f17766bc8db"
      },
      "source": [
        "df7.head()"
      ],
      "execution_count": null,
      "outputs": [
        {
          "output_type": "execute_result",
          "data": {
            "text/html": [
              "<div>\n",
              "<style scoped>\n",
              "    .dataframe tbody tr th:only-of-type {\n",
              "        vertical-align: middle;\n",
              "    }\n",
              "\n",
              "    .dataframe tbody tr th {\n",
              "        vertical-align: top;\n",
              "    }\n",
              "\n",
              "    .dataframe thead th {\n",
              "        text-align: right;\n",
              "    }\n",
              "</style>\n",
              "<table border=\"1\" class=\"dataframe\">\n",
              "  <thead>\n",
              "    <tr style=\"text-align: right;\">\n",
              "      <th></th>\n",
              "      <th>ID</th>\n",
              "      <th>CNT_CHILDREN</th>\n",
              "      <th>AMT_INCOME_TOTAL</th>\n",
              "      <th>DAYS_BIRTH</th>\n",
              "      <th>DAYS_EMPLOYED</th>\n",
              "      <th>FLAG_MOBIL</th>\n",
              "      <th>FLAG_WORK_PHONE</th>\n",
              "      <th>FLAG_PHONE</th>\n",
              "      <th>FLAG_EMAIL</th>\n",
              "      <th>OCCUPATION_TYPE</th>\n",
              "      <th>CNT_FAM_MEMBERS</th>\n",
              "      <th>MONTHS_BALANCE</th>\n",
              "      <th>STATUS</th>\n",
              "      <th>CODE_GENDER_F</th>\n",
              "      <th>CODE_GENDER_M</th>\n",
              "      <th>FLAG_OWN_CAR_N</th>\n",
              "      <th>FLAG_OWN_CAR_Y</th>\n",
              "      <th>FLAG_OWN_REALTY_N</th>\n",
              "      <th>FLAG_OWN_REALTY_Y</th>\n",
              "      <th>NAME_INCOME_TYPE_Commercial associate</th>\n",
              "      <th>NAME_INCOME_TYPE_Pensioner</th>\n",
              "      <th>NAME_INCOME_TYPE_State servant</th>\n",
              "      <th>NAME_INCOME_TYPE_Student</th>\n",
              "      <th>NAME_INCOME_TYPE_Working</th>\n",
              "      <th>NAME_EDUCATION_TYPE_Academic degree</th>\n",
              "      <th>NAME_EDUCATION_TYPE_Higher education</th>\n",
              "      <th>NAME_EDUCATION_TYPE_Incomplete higher</th>\n",
              "      <th>NAME_EDUCATION_TYPE_Lower secondary</th>\n",
              "      <th>NAME_EDUCATION_TYPE_Secondary / secondary special</th>\n",
              "      <th>NAME_FAMILY_STATUS_Civil marriage</th>\n",
              "      <th>NAME_FAMILY_STATUS_Married</th>\n",
              "      <th>NAME_FAMILY_STATUS_Separated</th>\n",
              "      <th>NAME_FAMILY_STATUS_Single / not married</th>\n",
              "      <th>NAME_FAMILY_STATUS_Widow</th>\n",
              "      <th>NAME_HOUSING_TYPE_Co-op apartment</th>\n",
              "      <th>NAME_HOUSING_TYPE_House / apartment</th>\n",
              "      <th>NAME_HOUSING_TYPE_Municipal apartment</th>\n",
              "      <th>NAME_HOUSING_TYPE_Office apartment</th>\n",
              "      <th>NAME_HOUSING_TYPE_Rented apartment</th>\n",
              "      <th>NAME_HOUSING_TYPE_With parents</th>\n",
              "      <th>OverDues</th>\n",
              "    </tr>\n",
              "  </thead>\n",
              "  <tbody>\n",
              "    <tr>\n",
              "      <th>0</th>\n",
              "      <td>5008804</td>\n",
              "      <td>0</td>\n",
              "      <td>427500.0</td>\n",
              "      <td>-12005</td>\n",
              "      <td>-4542</td>\n",
              "      <td>1</td>\n",
              "      <td>1</td>\n",
              "      <td>0</td>\n",
              "      <td>0</td>\n",
              "      <td>NaN</td>\n",
              "      <td>2.0</td>\n",
              "      <td>0</td>\n",
              "      <td>C</td>\n",
              "      <td>0</td>\n",
              "      <td>1</td>\n",
              "      <td>0</td>\n",
              "      <td>1</td>\n",
              "      <td>0</td>\n",
              "      <td>1</td>\n",
              "      <td>0</td>\n",
              "      <td>0</td>\n",
              "      <td>0</td>\n",
              "      <td>0</td>\n",
              "      <td>1</td>\n",
              "      <td>0</td>\n",
              "      <td>1</td>\n",
              "      <td>0</td>\n",
              "      <td>0</td>\n",
              "      <td>0</td>\n",
              "      <td>1</td>\n",
              "      <td>0</td>\n",
              "      <td>0</td>\n",
              "      <td>0</td>\n",
              "      <td>0</td>\n",
              "      <td>0</td>\n",
              "      <td>0</td>\n",
              "      <td>0</td>\n",
              "      <td>0</td>\n",
              "      <td>1</td>\n",
              "      <td>0</td>\n",
              "      <td>0</td>\n",
              "    </tr>\n",
              "    <tr>\n",
              "      <th>1</th>\n",
              "      <td>5008804</td>\n",
              "      <td>0</td>\n",
              "      <td>427500.0</td>\n",
              "      <td>-12005</td>\n",
              "      <td>-4542</td>\n",
              "      <td>1</td>\n",
              "      <td>1</td>\n",
              "      <td>0</td>\n",
              "      <td>0</td>\n",
              "      <td>NaN</td>\n",
              "      <td>2.0</td>\n",
              "      <td>-1</td>\n",
              "      <td>C</td>\n",
              "      <td>0</td>\n",
              "      <td>1</td>\n",
              "      <td>0</td>\n",
              "      <td>1</td>\n",
              "      <td>0</td>\n",
              "      <td>1</td>\n",
              "      <td>0</td>\n",
              "      <td>0</td>\n",
              "      <td>0</td>\n",
              "      <td>0</td>\n",
              "      <td>1</td>\n",
              "      <td>0</td>\n",
              "      <td>1</td>\n",
              "      <td>0</td>\n",
              "      <td>0</td>\n",
              "      <td>0</td>\n",
              "      <td>1</td>\n",
              "      <td>0</td>\n",
              "      <td>0</td>\n",
              "      <td>0</td>\n",
              "      <td>0</td>\n",
              "      <td>0</td>\n",
              "      <td>0</td>\n",
              "      <td>0</td>\n",
              "      <td>0</td>\n",
              "      <td>1</td>\n",
              "      <td>0</td>\n",
              "      <td>0</td>\n",
              "    </tr>\n",
              "    <tr>\n",
              "      <th>2</th>\n",
              "      <td>5008804</td>\n",
              "      <td>0</td>\n",
              "      <td>427500.0</td>\n",
              "      <td>-12005</td>\n",
              "      <td>-4542</td>\n",
              "      <td>1</td>\n",
              "      <td>1</td>\n",
              "      <td>0</td>\n",
              "      <td>0</td>\n",
              "      <td>NaN</td>\n",
              "      <td>2.0</td>\n",
              "      <td>-2</td>\n",
              "      <td>C</td>\n",
              "      <td>0</td>\n",
              "      <td>1</td>\n",
              "      <td>0</td>\n",
              "      <td>1</td>\n",
              "      <td>0</td>\n",
              "      <td>1</td>\n",
              "      <td>0</td>\n",
              "      <td>0</td>\n",
              "      <td>0</td>\n",
              "      <td>0</td>\n",
              "      <td>1</td>\n",
              "      <td>0</td>\n",
              "      <td>1</td>\n",
              "      <td>0</td>\n",
              "      <td>0</td>\n",
              "      <td>0</td>\n",
              "      <td>1</td>\n",
              "      <td>0</td>\n",
              "      <td>0</td>\n",
              "      <td>0</td>\n",
              "      <td>0</td>\n",
              "      <td>0</td>\n",
              "      <td>0</td>\n",
              "      <td>0</td>\n",
              "      <td>0</td>\n",
              "      <td>1</td>\n",
              "      <td>0</td>\n",
              "      <td>0</td>\n",
              "    </tr>\n",
              "    <tr>\n",
              "      <th>3</th>\n",
              "      <td>5008804</td>\n",
              "      <td>0</td>\n",
              "      <td>427500.0</td>\n",
              "      <td>-12005</td>\n",
              "      <td>-4542</td>\n",
              "      <td>1</td>\n",
              "      <td>1</td>\n",
              "      <td>0</td>\n",
              "      <td>0</td>\n",
              "      <td>NaN</td>\n",
              "      <td>2.0</td>\n",
              "      <td>-3</td>\n",
              "      <td>C</td>\n",
              "      <td>0</td>\n",
              "      <td>1</td>\n",
              "      <td>0</td>\n",
              "      <td>1</td>\n",
              "      <td>0</td>\n",
              "      <td>1</td>\n",
              "      <td>0</td>\n",
              "      <td>0</td>\n",
              "      <td>0</td>\n",
              "      <td>0</td>\n",
              "      <td>1</td>\n",
              "      <td>0</td>\n",
              "      <td>1</td>\n",
              "      <td>0</td>\n",
              "      <td>0</td>\n",
              "      <td>0</td>\n",
              "      <td>1</td>\n",
              "      <td>0</td>\n",
              "      <td>0</td>\n",
              "      <td>0</td>\n",
              "      <td>0</td>\n",
              "      <td>0</td>\n",
              "      <td>0</td>\n",
              "      <td>0</td>\n",
              "      <td>0</td>\n",
              "      <td>1</td>\n",
              "      <td>0</td>\n",
              "      <td>0</td>\n",
              "    </tr>\n",
              "    <tr>\n",
              "      <th>4</th>\n",
              "      <td>5008804</td>\n",
              "      <td>0</td>\n",
              "      <td>427500.0</td>\n",
              "      <td>-12005</td>\n",
              "      <td>-4542</td>\n",
              "      <td>1</td>\n",
              "      <td>1</td>\n",
              "      <td>0</td>\n",
              "      <td>0</td>\n",
              "      <td>NaN</td>\n",
              "      <td>2.0</td>\n",
              "      <td>-4</td>\n",
              "      <td>C</td>\n",
              "      <td>0</td>\n",
              "      <td>1</td>\n",
              "      <td>0</td>\n",
              "      <td>1</td>\n",
              "      <td>0</td>\n",
              "      <td>1</td>\n",
              "      <td>0</td>\n",
              "      <td>0</td>\n",
              "      <td>0</td>\n",
              "      <td>0</td>\n",
              "      <td>1</td>\n",
              "      <td>0</td>\n",
              "      <td>1</td>\n",
              "      <td>0</td>\n",
              "      <td>0</td>\n",
              "      <td>0</td>\n",
              "      <td>1</td>\n",
              "      <td>0</td>\n",
              "      <td>0</td>\n",
              "      <td>0</td>\n",
              "      <td>0</td>\n",
              "      <td>0</td>\n",
              "      <td>0</td>\n",
              "      <td>0</td>\n",
              "      <td>0</td>\n",
              "      <td>1</td>\n",
              "      <td>0</td>\n",
              "      <td>0</td>\n",
              "    </tr>\n",
              "  </tbody>\n",
              "</table>\n",
              "</div>"
            ],
            "text/plain": [
              "        ID  CNT_CHILDREN  ...  NAME_HOUSING_TYPE_With parents  OverDues\n",
              "0  5008804             0  ...                               0         0\n",
              "1  5008804             0  ...                               0         0\n",
              "2  5008804             0  ...                               0         0\n",
              "3  5008804             0  ...                               0         0\n",
              "4  5008804             0  ...                               0         0\n",
              "\n",
              "[5 rows x 41 columns]"
            ]
          },
          "metadata": {},
          "execution_count": 46
        }
      ]
    },
    {
      "cell_type": "code",
      "metadata": {
        "colab": {
          "base_uri": "https://localhost:8080/"
        },
        "id": "vQJLdCj3aK9R",
        "outputId": "4c6fe9c0-a9fc-4022-a012-bfd6d4035cc2"
      },
      "source": [
        "df7.columns"
      ],
      "execution_count": null,
      "outputs": [
        {
          "output_type": "execute_result",
          "data": {
            "text/plain": [
              "Index(['ID', 'CNT_CHILDREN', 'AMT_INCOME_TOTAL', 'DAYS_BIRTH', 'DAYS_EMPLOYED',\n",
              "       'FLAG_MOBIL', 'FLAG_WORK_PHONE', 'FLAG_PHONE', 'FLAG_EMAIL',\n",
              "       'OCCUPATION_TYPE', 'CNT_FAM_MEMBERS', 'MONTHS_BALANCE', 'STATUS',\n",
              "       'CODE_GENDER_F', 'CODE_GENDER_M', 'FLAG_OWN_CAR_N', 'FLAG_OWN_CAR_Y',\n",
              "       'FLAG_OWN_REALTY_N', 'FLAG_OWN_REALTY_Y',\n",
              "       'NAME_INCOME_TYPE_Commercial associate', 'NAME_INCOME_TYPE_Pensioner',\n",
              "       'NAME_INCOME_TYPE_State servant', 'NAME_INCOME_TYPE_Student',\n",
              "       'NAME_INCOME_TYPE_Working', 'NAME_EDUCATION_TYPE_Academic degree',\n",
              "       'NAME_EDUCATION_TYPE_Higher education',\n",
              "       'NAME_EDUCATION_TYPE_Incomplete higher',\n",
              "       'NAME_EDUCATION_TYPE_Lower secondary',\n",
              "       'NAME_EDUCATION_TYPE_Secondary / secondary special',\n",
              "       'NAME_FAMILY_STATUS_Civil marriage', 'NAME_FAMILY_STATUS_Married',\n",
              "       'NAME_FAMILY_STATUS_Separated',\n",
              "       'NAME_FAMILY_STATUS_Single / not married', 'NAME_FAMILY_STATUS_Widow',\n",
              "       'NAME_HOUSING_TYPE_Co-op apartment',\n",
              "       'NAME_HOUSING_TYPE_House / apartment',\n",
              "       'NAME_HOUSING_TYPE_Municipal apartment',\n",
              "       'NAME_HOUSING_TYPE_Office apartment',\n",
              "       'NAME_HOUSING_TYPE_Rented apartment', 'NAME_HOUSING_TYPE_With parents',\n",
              "       'OverDues'],\n",
              "      dtype='object')"
            ]
          },
          "metadata": {},
          "execution_count": 47
        }
      ]
    },
    {
      "cell_type": "code",
      "metadata": {
        "id": "7qjWCAe8aOdO"
      },
      "source": [
        "Features = ['CNT_CHILDREN', 'AMT_INCOME_TOTAL',\n",
        "       'DAYS_BIRTH', 'DAYS_EMPLOYED', 'FLAG_MOBIL', 'FLAG_WORK_PHONE',\n",
        "       'FLAG_PHONE', 'FLAG_EMAIL', 'CNT_FAM_MEMBERS',\n",
        "       'CODE_GENDER_F', 'CODE_GENDER_M', 'FLAG_OWN_CAR_N', 'FLAG_OWN_CAR_Y',\n",
        "       'FLAG_OWN_REALTY_N', 'FLAG_OWN_REALTY_Y',\n",
        "       'NAME_INCOME_TYPE_Commercial associate', 'NAME_INCOME_TYPE_Pensioner',\n",
        "       'NAME_INCOME_TYPE_State servant', 'NAME_INCOME_TYPE_Student',\n",
        "       'NAME_INCOME_TYPE_Working', 'NAME_EDUCATION_TYPE_Academic degree',\n",
        "       'NAME_EDUCATION_TYPE_Higher education',\n",
        "       'NAME_EDUCATION_TYPE_Incomplete higher',\n",
        "       'NAME_EDUCATION_TYPE_Lower secondary',\n",
        "       'NAME_EDUCATION_TYPE_Secondary / secondary special',\n",
        "       'NAME_FAMILY_STATUS_Civil marriage', 'NAME_FAMILY_STATUS_Married',\n",
        "       'NAME_FAMILY_STATUS_Separated',\n",
        "       'NAME_FAMILY_STATUS_Single / not married', 'NAME_FAMILY_STATUS_Widow',\n",
        "       'NAME_HOUSING_TYPE_Co-op apartment',\n",
        "       'NAME_HOUSING_TYPE_House / apartment',\n",
        "       'NAME_HOUSING_TYPE_Municipal apartment',\n",
        "       'NAME_HOUSING_TYPE_Office apartment',\n",
        "       'NAME_HOUSING_TYPE_Rented apartment', 'NAME_HOUSING_TYPE_With parents']"
      ],
      "execution_count": null,
      "outputs": []
    },
    {
      "cell_type": "code",
      "metadata": {
        "id": "lxdt5UGMaaem"
      },
      "source": [
        "from sklearn import model_selection\n",
        "from sklearn.model_selection import train_test_split\n",
        "\n",
        "train, test = train_test_split(df7, test_size = 0.3, random_state=21)\n",
        "train = train.reset_index(drop=True)\n",
        "test = test.reset_index(drop=True)\n",
        "\n",
        "features_train = train[Features]\n",
        "label_train = train['OverDues']\n",
        "features_test = test[Features]\n",
        "label_test = test['OverDues']"
      ],
      "execution_count": null,
      "outputs": []
    },
    {
      "cell_type": "code",
      "metadata": {
        "id": "9HMwnyVlamIf"
      },
      "source": [
        "from sklearn.ensemble import RandomForestClassifier\n",
        "clf = RandomForestClassifier()\n",
        "\n",
        "clf.fit(features_train,label_train)\n",
        "\n",
        "pred_train = clf.predict(features_train)\n",
        "pred_test = clf.predict(features_test)\n",
        "\n",
        "from sklearn.metrics import accuracy_score\n",
        "RFCaccuracy_train = (accuracy_score(pred_train,label_train)) * 100\n",
        "RFCaccuracy_test = (accuracy_score(pred_test,label_test)) * 100"
      ],
      "execution_count": null,
      "outputs": []
    },
    {
      "cell_type": "code",
      "metadata": {
        "colab": {
          "base_uri": "https://localhost:8080/"
        },
        "id": "QKYJgM20bFGa",
        "outputId": "77f25880-56ef-4e57-df10-3d983787af35"
      },
      "source": [
        "print('Training Accuracy is ' + str(round(RFCaccuracy_train, 4)) + '%')\n",
        "print('Test Accuracy is ' +  str(round(RFCaccuracy_test, 4)) + '%')"
      ],
      "execution_count": null,
      "outputs": [
        {
          "output_type": "stream",
          "name": "stdout",
          "text": [
            "Training Accuracy is 72.356%\n",
            "Test Accuracy is 71.499%\n"
          ]
        }
      ]
    },
    {
      "cell_type": "code",
      "metadata": {
        "colab": {
          "base_uri": "https://localhost:8080/",
          "height": 142
        },
        "id": "GZQwKyi6bIOk",
        "outputId": "430251bb-260e-4846-c783-ae7a8b643325"
      },
      "source": [
        "pd.crosstab(label_test,pd.Series(pred_test),rownames=['ACTUAL'],colnames=['PRED'])"
      ],
      "execution_count": null,
      "outputs": [
        {
          "output_type": "execute_result",
          "data": {
            "text/html": [
              "<div>\n",
              "<style scoped>\n",
              "    .dataframe tbody tr th:only-of-type {\n",
              "        vertical-align: middle;\n",
              "    }\n",
              "\n",
              "    .dataframe tbody tr th {\n",
              "        vertical-align: top;\n",
              "    }\n",
              "\n",
              "    .dataframe thead th {\n",
              "        text-align: right;\n",
              "    }\n",
              "</style>\n",
              "<table border=\"1\" class=\"dataframe\">\n",
              "  <thead>\n",
              "    <tr style=\"text-align: right;\">\n",
              "      <th>PRED</th>\n",
              "      <th>0</th>\n",
              "      <th>1</th>\n",
              "    </tr>\n",
              "    <tr>\n",
              "      <th>ACTUAL</th>\n",
              "      <th></th>\n",
              "      <th></th>\n",
              "    </tr>\n",
              "  </thead>\n",
              "  <tbody>\n",
              "    <tr>\n",
              "      <th>0</th>\n",
              "      <td>122163</td>\n",
              "      <td>20630</td>\n",
              "    </tr>\n",
              "    <tr>\n",
              "      <th>1</th>\n",
              "      <td>45867</td>\n",
              "      <td>44655</td>\n",
              "    </tr>\n",
              "  </tbody>\n",
              "</table>\n",
              "</div>"
            ],
            "text/plain": [
              "PRED         0      1\n",
              "ACTUAL               \n",
              "0       122163  20630\n",
              "1        45867  44655"
            ]
          },
          "metadata": {},
          "execution_count": 52
        }
      ]
    },
    {
      "cell_type": "code",
      "metadata": {
        "colab": {
          "base_uri": "https://localhost:8080/"
        },
        "id": "8Dgm13YLbOnP",
        "outputId": "3945cee9-9ab3-4397-851c-2433fbdbb3e0"
      },
      "source": [
        "from sklearn.metrics import classification_report\n",
        "from sklearn.metrics import confusion_matrix\n",
        "from sklearn.metrics import accuracy_score, f1_score, precision_score, recall_score\n",
        "\n",
        "print('Accuracy Score')\n",
        "print(accuracy_score(label_test, pred_test),'\\n')\n",
        "\n",
        "print('Precision Score')\n",
        "print(precision_score(label_test, pred_test,average = None),'\\n')\n",
        "\n",
        "print('Confusion Matrix')\n",
        "array = confusion_matrix(label_test, pred_test)\n",
        "columns = ['Non Defaulter','Defaulter'] \n",
        "print(pd.DataFrame(array,columns = columns, index = columns),'\\n')\n",
        "\n",
        "print('Classification Report')\n",
        "print(classification_report(label_test, pred_test),'\\n')"
      ],
      "execution_count": null,
      "outputs": [
        {
          "output_type": "stream",
          "name": "stdout",
          "text": [
            "Accuracy Score\n",
            "0.7149904635364207 \n",
            "\n",
            "Precision Score\n",
            "[0.72703089 0.68400092] \n",
            "\n",
            "Confusion Matrix\n",
            "               Non Defaulter  Defaulter\n",
            "Non Defaulter         122163      20630\n",
            "Defaulter              45867      44655 \n",
            "\n",
            "Classification Report\n",
            "              precision    recall  f1-score   support\n",
            "\n",
            "           0       0.73      0.86      0.79    142793\n",
            "           1       0.68      0.49      0.57     90522\n",
            "\n",
            "    accuracy                           0.71    233315\n",
            "   macro avg       0.71      0.67      0.68    233315\n",
            "weighted avg       0.71      0.71      0.70    233315\n",
            " \n",
            "\n"
          ]
        }
      ]
    },
    {
      "cell_type": "code",
      "metadata": {
        "id": "7hY1sCGXbWEf"
      },
      "source": [
        "from sklearn.tree import DecisionTreeClassifier\n",
        "\n",
        "tree = DecisionTreeClassifier(random_state=0)\n",
        "tree.fit(features_train, label_train)\n",
        "\n",
        "pred_train=tree.predict(features_train)\n",
        "pred_test=tree.predict(features_test)\n",
        "\n",
        "from sklearn.metrics import accuracy_score\n",
        "DTCaccuracy_train = (accuracy_score(pred_train,label_train)) * 100\n",
        "DTCaccuracy_test = (accuracy_score(pred_test,label_test)) * 100"
      ],
      "execution_count": null,
      "outputs": []
    },
    {
      "cell_type": "code",
      "metadata": {
        "colab": {
          "base_uri": "https://localhost:8080/"
        },
        "id": "12G1Mx1Cbk2f",
        "outputId": "63e7811a-1ada-4aa1-c36e-3adbcf467297"
      },
      "source": [
        "print('Training Accuracy is ' + str(round(DTCaccuracy_train, 4)) + '%')\n",
        "print('Test Accuracy is ' +  str(round(DTCaccuracy_test, 4)) + '%')"
      ],
      "execution_count": null,
      "outputs": [
        {
          "output_type": "stream",
          "name": "stdout",
          "text": [
            "Training Accuracy is 72.3582%\n",
            "Test Accuracy is 71.5235%\n"
          ]
        }
      ]
    },
    {
      "cell_type": "code",
      "metadata": {
        "colab": {
          "base_uri": "https://localhost:8080/",
          "height": 142
        },
        "id": "ovX2x2ubboQM",
        "outputId": "666e6a93-c2a5-4891-f121-2b97235c3aa3"
      },
      "source": [
        "pd.crosstab(label_test,pd.Series(pred_test),rownames=['ACTUAL'],colnames=['PRED'])"
      ],
      "execution_count": null,
      "outputs": [
        {
          "output_type": "execute_result",
          "data": {
            "text/html": [
              "<div>\n",
              "<style scoped>\n",
              "    .dataframe tbody tr th:only-of-type {\n",
              "        vertical-align: middle;\n",
              "    }\n",
              "\n",
              "    .dataframe tbody tr th {\n",
              "        vertical-align: top;\n",
              "    }\n",
              "\n",
              "    .dataframe thead th {\n",
              "        text-align: right;\n",
              "    }\n",
              "</style>\n",
              "<table border=\"1\" class=\"dataframe\">\n",
              "  <thead>\n",
              "    <tr style=\"text-align: right;\">\n",
              "      <th>PRED</th>\n",
              "      <th>0</th>\n",
              "      <th>1</th>\n",
              "    </tr>\n",
              "    <tr>\n",
              "      <th>ACTUAL</th>\n",
              "      <th></th>\n",
              "      <th></th>\n",
              "    </tr>\n",
              "  </thead>\n",
              "  <tbody>\n",
              "    <tr>\n",
              "      <th>0</th>\n",
              "      <td>122694</td>\n",
              "      <td>20099</td>\n",
              "    </tr>\n",
              "    <tr>\n",
              "      <th>1</th>\n",
              "      <td>46341</td>\n",
              "      <td>44181</td>\n",
              "    </tr>\n",
              "  </tbody>\n",
              "</table>\n",
              "</div>"
            ],
            "text/plain": [
              "PRED         0      1\n",
              "ACTUAL               \n",
              "0       122694  20099\n",
              "1        46341  44181"
            ]
          },
          "metadata": {},
          "execution_count": 56
        }
      ]
    },
    {
      "cell_type": "code",
      "metadata": {
        "colab": {
          "base_uri": "https://localhost:8080/"
        },
        "id": "76UEkr90bpaP",
        "outputId": "c7779549-f8ca-4811-9683-ecb66cc029c7"
      },
      "source": [
        "from sklearn.metrics import classification_report\n",
        "from sklearn.metrics import confusion_matrix\n",
        "from sklearn.metrics import accuracy_score, f1_score, precision_score, recall_score\n",
        "\n",
        "print('Accuracy Score')\n",
        "print(accuracy_score(label_test, pred_test),'\\n')\n",
        "\n",
        "print('Precision Score')\n",
        "print(precision_score(label_test, pred_test,average = None),'\\n')\n",
        "\n",
        "print('Confusion Matrix')\n",
        "array = confusion_matrix(label_test, pred_test)\n",
        "columns = ['Non Defaulter','Defaulter']  \n",
        "print(pd.DataFrame(array,columns = columns, index = columns),'\\n')\n",
        "\n",
        "print('Classification Report')\n",
        "print(classification_report(label_test, pred_test),'\\n')"
      ],
      "execution_count": null,
      "outputs": [
        {
          "output_type": "stream",
          "name": "stdout",
          "text": [
            "Accuracy Score\n",
            "0.7152347684460922 \n",
            "\n",
            "Precision Score\n",
            "[0.72584968 0.6873211 ] \n",
            "\n",
            "Confusion Matrix\n",
            "               Non Defaulter  Defaulter\n",
            "Non Defaulter         122694      20099\n",
            "Defaulter              46341      44181 \n",
            "\n",
            "Classification Report\n",
            "              precision    recall  f1-score   support\n",
            "\n",
            "           0       0.73      0.86      0.79    142793\n",
            "           1       0.69      0.49      0.57     90522\n",
            "\n",
            "    accuracy                           0.72    233315\n",
            "   macro avg       0.71      0.67      0.68    233315\n",
            "weighted avg       0.71      0.72      0.70    233315\n",
            " \n",
            "\n"
          ]
        }
      ]
    },
    {
      "cell_type": "code",
      "metadata": {
        "colab": {
          "base_uri": "https://localhost:8080/",
          "height": 1000
        },
        "id": "RMVijWGFbtZg",
        "outputId": "a64357f2-55f4-411c-fc6f-bbcd0358c6c3"
      },
      "source": [
        ""
      ],
      "execution_count": null,
      "outputs": [
        {
          "output_type": "execute_result",
          "data": {
            "text/plain": [
              "<matplotlib.axes._subplots.AxesSubplot at 0x7efff3561a50>"
            ]
          },
          "metadata": {},
          "execution_count": 59
        },
        {
          "output_type": "display_data",
          "data": {
            "image/png": "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\n",
            "text/plain": [
              "<Figure size 864x1584 with 1 Axes>"
            ]
          },
          "metadata": {
            "needs_background": "light"
          }
        }
      ]
    }
  ]
}
